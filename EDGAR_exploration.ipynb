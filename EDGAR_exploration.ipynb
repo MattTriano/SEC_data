{
 "cells": [
  {
   "cell_type": "code",
   "execution_count": 78,
   "id": "e2a15b07-370a-43e9-bc48-a3639faefaa2",
   "metadata": {},
   "outputs": [],
   "source": [
    "import pathlib\n",
    "from typing import Dict, List, Union, Optional\n",
    "from urllib.request import urlretrieve\n",
    "import re\n",
    "import requests\n",
    "import os\n",
    "\n",
    "import contextily as cx\n",
    "import geopandas as gpd\n",
    "import matplotlib.pyplot as plt\n",
    "import pandas as pd\n",
    "from shapely.geometry import Point, Polygon\n",
    "\n",
    "%matplotlib inline"
   ]
  },
  {
   "cell_type": "code",
   "execution_count": 2,
   "id": "766aa7a9-5904-47de-a49e-080791d24700",
   "metadata": {},
   "outputs": [
    {
     "data": {
      "text/html": [
       "<style>.container { width:100% !important; }</style>"
      ],
      "text/plain": [
       "<IPython.core.display.HTML object>"
      ]
     },
     "metadata": {},
     "output_type": "display_data"
    }
   ],
   "source": [
    "pd.options.display.max_columns = None\n",
    "pd.options.display.max_colwidth = 150\n",
    "from IPython.display import display, HTML\n",
    "display(HTML(\"<style>.container { width:100% !important; }</style>\"))"
   ]
  },
  {
   "cell_type": "code",
   "execution_count": 66,
   "id": "52007550-9cae-4cd0-aa6b-647aa9e19df2",
   "metadata": {},
   "outputs": [
    {
     "data": {
      "text/plain": [
       "True"
      ]
     },
     "execution_count": 66,
     "metadata": {},
     "output_type": "execute_result"
    }
   ],
   "source": [
    "from dotenv import load_dotenv\n",
    "\n",
    "load_dotenv()"
   ]
  },
  {
   "cell_type": "code",
   "execution_count": 5,
   "id": "cf2c983b-1489-48d6-aef9-72144b617894",
   "metadata": {},
   "outputs": [
    {
     "data": {
      "text/plain": [
       "PosixPath('/home/matt/projects/analysis/us_employers/sec/data')"
      ]
     },
     "execution_count": 5,
     "metadata": {},
     "output_type": "execute_result"
    }
   ],
   "source": [
    "DATA_DIR = pathlib.Path(\"data\").resolve()\n",
    "DATA_DIR"
   ]
  },
  {
   "cell_type": "code",
   "execution_count": 67,
   "id": "2b642eef-8e67-42db-8090-50da1bcf3ba6",
   "metadata": {},
   "outputs": [],
   "source": [
    "def extract_data_from_url(\n",
    "    file_path: pathlib.Path,\n",
    "    url: str,\n",
    "    data_format: str,\n",
    "    force_repull: bool = False,\n",
    ") -> pd.DataFrame:\n",
    "    file_path = pathlib.Path(file_path).resolve()\n",
    "    file_path.parent.mkdir(exist_ok=True, parents=True)\n",
    "    if not file_path.is_file() or force_repull:\n",
    "        urlretrieve(url, file_path)\n",
    "    if data_format in [\"csv\", \"zipped_csv\"]:\n",
    "        return pd.read_csv(file_path)\n",
    "    elif data_format in [\"json\"]:\n",
    "        return pd.read_json(file_path)\n",
    "    elif data_format in [\"shp\", \"geojson\"]:\n",
    "        return gpd.read_file(file_path)"
   ]
  },
  {
   "cell_type": "code",
   "execution_count": 73,
   "id": "dcabf687-8f5d-496c-8298-d04aa5b77583",
   "metadata": {},
   "outputs": [],
   "source": [
    "company_tickers_df = extract_data_from_url(\n",
    "    file_path = DATA_DIR.joinpath(\"company_tickers.json\"),\n",
    "    url = \"https://www.sec.gov/files/company_tickers.json\",\n",
    "    data_format=\"json\",\n",
    ")\n",
    "company_tickers_df = company_tickers_df.T"
   ]
  },
  {
   "cell_type": "code",
   "execution_count": 74,
   "id": "2c001cf3-314b-4ab4-8f98-2f6e541c2504",
   "metadata": {},
   "outputs": [
    {
     "name": "stdout",
     "output_type": "stream",
     "text": [
      "(12115, 3)\n"
     ]
    },
    {
     "data": {
      "text/html": [
       "<div>\n",
       "<style scoped>\n",
       "    .dataframe tbody tr th:only-of-type {\n",
       "        vertical-align: middle;\n",
       "    }\n",
       "\n",
       "    .dataframe tbody tr th {\n",
       "        vertical-align: top;\n",
       "    }\n",
       "\n",
       "    .dataframe thead th {\n",
       "        text-align: right;\n",
       "    }\n",
       "</style>\n",
       "<table border=\"1\" class=\"dataframe\">\n",
       "  <thead>\n",
       "    <tr style=\"text-align: right;\">\n",
       "      <th></th>\n",
       "      <th>cik_str</th>\n",
       "      <th>ticker</th>\n",
       "      <th>title</th>\n",
       "    </tr>\n",
       "  </thead>\n",
       "  <tbody>\n",
       "    <tr>\n",
       "      <th>0</th>\n",
       "      <td>320193</td>\n",
       "      <td>AAPL</td>\n",
       "      <td>Apple Inc.</td>\n",
       "    </tr>\n",
       "    <tr>\n",
       "      <th>1</th>\n",
       "      <td>789019</td>\n",
       "      <td>MSFT</td>\n",
       "      <td>MICROSOFT CORP</td>\n",
       "    </tr>\n",
       "  </tbody>\n",
       "</table>\n",
       "</div>"
      ],
      "text/plain": [
       "  cik_str ticker           title\n",
       "0  320193   AAPL      Apple Inc.\n",
       "1  789019   MSFT  MICROSOFT CORP"
      ]
     },
     "execution_count": 74,
     "metadata": {},
     "output_type": "execute_result"
    }
   ],
   "source": [
    "print(company_ticker_df.shape)\n",
    "company_ticker_df.head(2)"
   ]
  },
  {
   "cell_type": "code",
   "execution_count": 52,
   "id": "ab0bdfa4-dd82-4c76-bb98-d153aa90cc8f",
   "metadata": {},
   "outputs": [],
   "source": [
    "def decode_lines(response_lines):\n",
    "    decoded_lines = []\n",
    "    error_lines = []\n",
    "    for line in response_lines:\n",
    "        try:\n",
    "            decoded_lines.append(line.decode(\"utf-8\"))\n",
    "        except Exception:\n",
    "            error_lines.append(line)\n",
    "            print(line)\n",
    "    return (decoded_lines, error_lines)\n",
    "        "
   ]
  },
  {
   "cell_type": "code",
   "execution_count": 76,
   "id": "385b1ac2-7171-4f3f-ba35-c6e78b3ea898",
   "metadata": {},
   "outputs": [],
   "source": [
    "url = \"https://www.sec.gov/Archives/edgar/cik-lookup-data.txt\"\n",
    "\n",
    "# urlretrieve(url=url, filename=out_path)"
   ]
  },
  {
   "cell_type": "code",
   "execution_count": 80,
   "id": "eea079d6-7919-467e-a03a-d68023295060",
   "metadata": {},
   "outputs": [],
   "source": [
    "url = \"https://www.sec.gov/Archives/edgar/cik-lookup-data.txt\"\n",
    "resp = requests.get(\n",
    "    url,\n",
    "    headers={\n",
    "        \"User-Agent\":os.environ[\"email\"]\n",
    "    }\n",
    ")"
   ]
  },
  {
   "cell_type": "code",
   "execution_count": 81,
   "id": "27708dc2-7c49-43e0-878a-0754faf54926",
   "metadata": {},
   "outputs": [
    {
     "data": {
      "text/plain": [
       "200"
      ]
     },
     "execution_count": 81,
     "metadata": {},
     "output_type": "execute_result"
    }
   ],
   "source": [
    "resp.status_code"
   ]
  },
  {
   "cell_type": "code",
   "execution_count": 82,
   "id": "5258a51f-e9ab-43a6-98d4-3c64246b6183",
   "metadata": {},
   "outputs": [
    {
     "name": "stdout",
     "output_type": "stream",
     "text": [
      "b'EXPLORA INVESTIMENTOS GEST\\xc3O DE RECURSOS LTDA:0001538467:'\n",
      "b'PRAGMA GEST\\xc3O DE PATRIM\\xd4NIO LTDA:0001555512:'\n"
     ]
    }
   ],
   "source": [
    "response_lines = [line for line in resp.iter_lines()]\n",
    "decoded_lines, error_lines = decode_lines(response_lines)\n",
    "company_cik_codes = pd.DataFrame(decoded_lines)\n",
    "company_cik_codes_df = company_cik_codes[0].str.split(\":\", n=1, expand=True)\n",
    "company_cik_codes_df = company_cik_codes_df.rename(columns={0:\"company\", 1:\"cik\"})\n",
    "company_cik_codes_df[\"cik\"] = company_cik_codes_df[\"cik\"].str.replace(\":\", \"\")"
   ]
  },
  {
   "cell_type": "code",
   "execution_count": 83,
   "id": "837534a1-7c53-4443-8c0b-ec5d3032565b",
   "metadata": {},
   "outputs": [
    {
     "name": "stdout",
     "output_type": "stream",
     "text": [
      "(881109, 1)\n"
     ]
    },
    {
     "data": {
      "text/html": [
       "<div>\n",
       "<style scoped>\n",
       "    .dataframe tbody tr th:only-of-type {\n",
       "        vertical-align: middle;\n",
       "    }\n",
       "\n",
       "    .dataframe tbody tr th {\n",
       "        vertical-align: top;\n",
       "    }\n",
       "\n",
       "    .dataframe thead th {\n",
       "        text-align: right;\n",
       "    }\n",
       "</style>\n",
       "<table border=\"1\" class=\"dataframe\">\n",
       "  <thead>\n",
       "    <tr style=\"text-align: right;\">\n",
       "      <th></th>\n",
       "      <th>0</th>\n",
       "    </tr>\n",
       "  </thead>\n",
       "  <tbody>\n",
       "    <tr>\n",
       "      <th>0</th>\n",
       "      <td>!J INC:0001438823:</td>\n",
       "    </tr>\n",
       "    <tr>\n",
       "      <th>1</th>\n",
       "      <td>#1 A LIFESAFER HOLDINGS, INC.:0001509607:</td>\n",
       "    </tr>\n",
       "  </tbody>\n",
       "</table>\n",
       "</div>"
      ],
      "text/plain": [
       "                                           0\n",
       "0                         !J INC:0001438823:\n",
       "1  #1 A LIFESAFER HOLDINGS, INC.:0001509607:"
      ]
     },
     "execution_count": 83,
     "metadata": {},
     "output_type": "execute_result"
    }
   ],
   "source": [
    "print(company_cik_codes.shape)\n",
    "company_cik_codes.head(2)"
   ]
  },
  {
   "cell_type": "code",
   "execution_count": 90,
   "id": "12c6d5d3-00a0-4399-88a1-c77489aa01b6",
   "metadata": {},
   "outputs": [],
   "source": [
    "company_cik_codes_df.to_csv(DATA_DIR.joinpath(\"edgar-cik-lookup-data.csv\"), index=False)"
   ]
  },
  {
   "cell_type": "code",
   "execution_count": null,
   "id": "2a50cdc4-045e-4a23-9df6-37a5acefd1a7",
   "metadata": {},
   "outputs": [],
   "source": []
  },
  {
   "cell_type": "code",
   "execution_count": 89,
   "id": "23e28c6c-5606-454d-848b-b8d213cc1c89",
   "metadata": {},
   "outputs": [
    {
     "data": {
      "text/html": [
       "<div>\n",
       "<style scoped>\n",
       "    .dataframe tbody tr th:only-of-type {\n",
       "        vertical-align: middle;\n",
       "    }\n",
       "\n",
       "    .dataframe tbody tr th {\n",
       "        vertical-align: top;\n",
       "    }\n",
       "\n",
       "    .dataframe thead th {\n",
       "        text-align: right;\n",
       "    }\n",
       "</style>\n",
       "<table border=\"1\" class=\"dataframe\">\n",
       "  <thead>\n",
       "    <tr style=\"text-align: right;\">\n",
       "      <th></th>\n",
       "      <th>company</th>\n",
       "      <th>cik</th>\n",
       "    </tr>\n",
       "  </thead>\n",
       "  <tbody>\n",
       "    <tr>\n",
       "      <th>0</th>\n",
       "      <td>!J INC</td>\n",
       "      <td>0001438823</td>\n",
       "    </tr>\n",
       "    <tr>\n",
       "      <th>1</th>\n",
       "      <td>#1 A LIFESAFER HOLDINGS, INC.</td>\n",
       "      <td>0001509607</td>\n",
       "    </tr>\n",
       "  </tbody>\n",
       "</table>\n",
       "</div>"
      ],
      "text/plain": [
       "                         company         cik\n",
       "0                         !J INC  0001438823\n",
       "1  #1 A LIFESAFER HOLDINGS, INC.  0001509607"
      ]
     },
     "execution_count": 89,
     "metadata": {},
     "output_type": "execute_result"
    }
   ],
   "source": [
    "company_cik_codes_df.head(2)"
   ]
  },
  {
   "cell_type": "code",
   "execution_count": null,
   "id": "20f3290e-6d35-4b8d-8128-573b1ab70593",
   "metadata": {},
   "outputs": [],
   "source": []
  },
  {
   "cell_type": "code",
   "execution_count": null,
   "id": "efdf531e-bce0-47ea-93f4-7115e4862515",
   "metadata": {},
   "outputs": [],
   "source": []
  },
  {
   "cell_type": "code",
   "execution_count": 36,
   "id": "aba8bc08-bb38-4a28-82d6-7016e890f736",
   "metadata": {},
   "outputs": [],
   "source": [
    "response_lines = [line for line in resp.iter_lines()]"
   ]
  },
  {
   "cell_type": "code",
   "execution_count": 40,
   "id": "01e8eae0-5a5a-4015-967a-a5db8b16b57d",
   "metadata": {},
   "outputs": [],
   "source": [
    "# response_lines[20:40]"
   ]
  },
  {
   "cell_type": "code",
   "execution_count": 57,
   "id": "c38375a3-3cc6-4a93-a85d-43b16ff9ae1c",
   "metadata": {},
   "outputs": [],
   "source": []
  },
  {
   "cell_type": "code",
   "execution_count": null,
   "id": "22cdcd71-27b2-40c0-8232-07644a534127",
   "metadata": {},
   "outputs": [],
   "source": [
    "company_cik_codes"
   ]
  },
  {
   "cell_type": "code",
   "execution_count": null,
   "id": "047f177b-3e2c-4f04-b2b7-ea4eb6141cb4",
   "metadata": {},
   "outputs": [],
   "source": []
  },
  {
   "cell_type": "code",
   "execution_count": null,
   "id": "befa53a2-981e-43e2-8591-bdda1623679d",
   "metadata": {},
   "outputs": [],
   "source": []
  },
  {
   "cell_type": "code",
   "execution_count": 59,
   "id": "47f0e77d-4a8f-4d30-9410-f04167659464",
   "metadata": {},
   "outputs": [],
   "source": [
    "# [line.split(\":\", 1) for line in decoded_lines]"
   ]
  },
  {
   "cell_type": "code",
   "execution_count": 60,
   "id": "6775ce0a-a6ce-47e0-8d05-4c2181ff8d26",
   "metadata": {},
   "outputs": [],
   "source": [
    "# decoded_lines"
   ]
  },
  {
   "cell_type": "code",
   "execution_count": 46,
   "id": "4683f7ad-f60d-4ee4-b277-c9f0c7705ba8",
   "metadata": {},
   "outputs": [
    {
     "name": "stdout",
     "output_type": "stream",
     "text": [
      "b'EXPLORA INVESTIMENTOS GEST\\xc3O DE RECURSOS LTDA:0001538467:'\n"
     ]
    }
   ],
   "source": [
    "print(error_lines[0])"
   ]
  },
  {
   "cell_type": "code",
   "execution_count": null,
   "id": "2b53a453-4ee9-4f6e-8890-c6f472f40060",
   "metadata": {},
   "outputs": [],
   "source": []
  },
  {
   "cell_type": "code",
   "execution_count": null,
   "id": "0258cc70-284e-434e-b9a1-5731253c4674",
   "metadata": {},
   "outputs": [],
   "source": []
  },
  {
   "cell_type": "code",
   "execution_count": null,
   "id": "024b1c9d-876c-47ba-a820-e24c58907f30",
   "metadata": {},
   "outputs": [],
   "source": []
  },
  {
   "cell_type": "code",
   "execution_count": null,
   "id": "aef309e3-29f3-4f15-8a24-02560b4ba777",
   "metadata": {},
   "outputs": [],
   "source": []
  },
  {
   "cell_type": "code",
   "execution_count": null,
   "id": "d0ff4cd9-8865-455b-8e2d-99e2a4ebb068",
   "metadata": {},
   "outputs": [],
   "source": []
  },
  {
   "cell_type": "code",
   "execution_count": null,
   "id": "90460771-4d4e-472e-8fcc-f0bd6f06c8e9",
   "metadata": {},
   "outputs": [],
   "source": []
  },
  {
   "cell_type": "code",
   "execution_count": null,
   "id": "788011eb-2092-49c8-96e2-71ca7ac718a4",
   "metadata": {},
   "outputs": [],
   "source": []
  }
 ],
 "metadata": {
  "kernelspec": {
   "display_name": "Python (geo_env)",
   "language": "python",
   "name": "geo_env"
  },
  "language_info": {
   "codemirror_mode": {
    "name": "ipython",
    "version": 3
   },
   "file_extension": ".py",
   "mimetype": "text/x-python",
   "name": "python",
   "nbconvert_exporter": "python",
   "pygments_lexer": "ipython3",
   "version": "3.10.6"
  }
 },
 "nbformat": 4,
 "nbformat_minor": 5
}
