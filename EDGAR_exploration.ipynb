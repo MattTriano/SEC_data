{
 "cells": [
  {
   "cell_type": "code",
   "execution_count": 1,
   "id": "e2a15b07-370a-43e9-bc48-a3639faefaa2",
   "metadata": {},
   "outputs": [],
   "source": [
    "import pathlib\n",
    "from typing import Dict, List, Union, Optional\n",
    "from urllib.request import urlretrieve\n",
    "import re\n",
    "import requests\n",
    "import os\n",
    "\n",
    "from bs4 import BeautifulSoup\n",
    "import contextily as cx\n",
    "import geopandas as gpd\n",
    "from dotenv import load_dotenv\n",
    "import matplotlib.pyplot as plt\n",
    "import pandas as pd\n",
    "from shapely.geometry import Point, Polygon\n",
    "\n",
    "%matplotlib inline"
   ]
  },
  {
   "cell_type": "code",
   "execution_count": 2,
   "id": "766aa7a9-5904-47de-a49e-080791d24700",
   "metadata": {},
   "outputs": [
    {
     "data": {
      "text/html": [
       "<style>.container { width:100% !important; }</style>"
      ],
      "text/plain": [
       "<IPython.core.display.HTML object>"
      ]
     },
     "metadata": {},
     "output_type": "display_data"
    }
   ],
   "source": [
    "pd.options.display.max_columns = None\n",
    "pd.options.display.max_colwidth = 150\n",
    "from IPython.display import display, HTML\n",
    "display(HTML(\"<style>.container { width:100% !important; }</style>\"))"
   ]
  },
  {
   "cell_type": "code",
   "execution_count": 3,
   "id": "52007550-9cae-4cd0-aa6b-647aa9e19df2",
   "metadata": {},
   "outputs": [],
   "source": [
    "load_dotenv()\n",
    "DATA_DIR = pathlib.Path(\"data\").resolve()"
   ]
  },
  {
   "cell_type": "code",
   "execution_count": 4,
   "id": "2b642eef-8e67-42db-8090-50da1bcf3ba6",
   "metadata": {},
   "outputs": [],
   "source": [
    "def extract_data_from_url(\n",
    "    file_path: pathlib.Path,\n",
    "    url: str,\n",
    "    data_format: str,\n",
    "    force_repull: bool = False,\n",
    ") -> pd.DataFrame:\n",
    "    file_path = pathlib.Path(file_path).resolve()\n",
    "    file_path.parent.mkdir(exist_ok=True, parents=True)\n",
    "    if not file_path.is_file() or force_repull:\n",
    "        urlretrieve(url, file_path)\n",
    "    if data_format in [\"csv\", \"zipped_csv\"]:\n",
    "        return pd.read_csv(file_path)\n",
    "    elif data_format in [\"json\"]:\n",
    "        return pd.read_json(file_path)\n",
    "    elif data_format in [\"shp\", \"geojson\"]:\n",
    "        return gpd.read_file(file_path)\n",
    "    \n",
    "def decode_lines(response_lines):\n",
    "    decoded_lines = []\n",
    "    error_lines = []\n",
    "    for line in response_lines:\n",
    "        try:\n",
    "            decoded_lines.append(line.decode(\"utf-8\"))\n",
    "        except Exception:\n",
    "            error_lines.append(line)\n",
    "            print(line)\n",
    "    return (decoded_lines, error_lines)\n",
    "    \n",
    "def get_edgar_cik_lookup_data(file_path: pathlib.Path = DATA_DIR.joinpath(\"edgar-cik-lookup-data.csv\"), force_repull: bool = False) -> pd.DataFrame:\n",
    "    if not file_path.is_file() or force_repull:\n",
    "        resp = requests.get(\n",
    "            url = \"https://www.sec.gov/Archives/edgar/cik-lookup-data.txt\",\n",
    "            headers={\"User-Agent\":os.environ[\"email\"]}\n",
    "        )\n",
    "        if resp.status_code == 200:\n",
    "            response_lines = [line for line in resp.iter_lines()]\n",
    "            decoded_lines, error_lines = decode_lines(response_lines)\n",
    "            company_cik_codes = pd.DataFrame(decoded_lines)\n",
    "            assert all(company_cik_codes[0].str[-11:-8] == \"000\"), (\n",
    "                \"A company had either a cik id >= 10^7 or a malformed cik. Investigate.\"\n",
    "            )\n",
    "            company_cik_codes_df = pd.DataFrame(\n",
    "                {\"company\": company_cik_codes[0].str[:-12],\n",
    "                 \"cik\": company_cik_codes[0].str[-11:-1]}\n",
    "            )\n",
    "            company_cik_codes_df.to_csv(file_path, index=False)\n",
    "        else:\n",
    "            raise Exception(f\"Failed to get a valid response: {rest.status_code}\")\n",
    "    return pd.read_csv(file_path, dtype=str)"
   ]
  },
  {
   "cell_type": "code",
   "execution_count": 5,
   "id": "dcabf687-8f5d-496c-8298-d04aa5b77583",
   "metadata": {},
   "outputs": [],
   "source": [
    "company_tickers_df = extract_data_from_url(\n",
    "    file_path = DATA_DIR.joinpath(\"company_tickers.json\"),\n",
    "    url = \"https://www.sec.gov/files/company_tickers.json\",\n",
    "    data_format=\"json\",\n",
    ")\n",
    "company_tickers_df = company_tickers_df.T"
   ]
  },
  {
   "cell_type": "code",
   "execution_count": 6,
   "id": "2c001cf3-314b-4ab4-8f98-2f6e541c2504",
   "metadata": {},
   "outputs": [
    {
     "name": "stdout",
     "output_type": "stream",
     "text": [
      "(12115, 3)\n"
     ]
    },
    {
     "data": {
      "text/html": [
       "<div>\n",
       "<style scoped>\n",
       "    .dataframe tbody tr th:only-of-type {\n",
       "        vertical-align: middle;\n",
       "    }\n",
       "\n",
       "    .dataframe tbody tr th {\n",
       "        vertical-align: top;\n",
       "    }\n",
       "\n",
       "    .dataframe thead th {\n",
       "        text-align: right;\n",
       "    }\n",
       "</style>\n",
       "<table border=\"1\" class=\"dataframe\">\n",
       "  <thead>\n",
       "    <tr style=\"text-align: right;\">\n",
       "      <th></th>\n",
       "      <th>cik_str</th>\n",
       "      <th>ticker</th>\n",
       "      <th>title</th>\n",
       "    </tr>\n",
       "  </thead>\n",
       "  <tbody>\n",
       "    <tr>\n",
       "      <th>0</th>\n",
       "      <td>320193</td>\n",
       "      <td>AAPL</td>\n",
       "      <td>Apple Inc.</td>\n",
       "    </tr>\n",
       "    <tr>\n",
       "      <th>1</th>\n",
       "      <td>789019</td>\n",
       "      <td>MSFT</td>\n",
       "      <td>MICROSOFT CORP</td>\n",
       "    </tr>\n",
       "  </tbody>\n",
       "</table>\n",
       "</div>"
      ],
      "text/plain": [
       "  cik_str ticker           title\n",
       "0  320193   AAPL      Apple Inc.\n",
       "1  789019   MSFT  MICROSOFT CORP"
      ]
     },
     "execution_count": 6,
     "metadata": {},
     "output_type": "execute_result"
    }
   ],
   "source": [
    "print(company_tickers_df.shape)\n",
    "company_tickers_df.head(2)"
   ]
  },
  {
   "cell_type": "code",
   "execution_count": 7,
   "id": "ab0bdfa4-dd82-4c76-bb98-d153aa90cc8f",
   "metadata": {},
   "outputs": [],
   "source": [
    "company_cik_codes_df = get_edgar_cik_lookup_data(file_path=DATA_DIR.joinpath(\"edgar-cik-lookup-data.csv\"))"
   ]
  },
  {
   "cell_type": "code",
   "execution_count": 8,
   "id": "d1f62822-b4ee-474a-addc-b95cf1aad898",
   "metadata": {},
   "outputs": [
    {
     "name": "stdout",
     "output_type": "stream",
     "text": [
      "(881109, 2)\n"
     ]
    },
    {
     "data": {
      "text/html": [
       "<div>\n",
       "<style scoped>\n",
       "    .dataframe tbody tr th:only-of-type {\n",
       "        vertical-align: middle;\n",
       "    }\n",
       "\n",
       "    .dataframe tbody tr th {\n",
       "        vertical-align: top;\n",
       "    }\n",
       "\n",
       "    .dataframe thead th {\n",
       "        text-align: right;\n",
       "    }\n",
       "</style>\n",
       "<table border=\"1\" class=\"dataframe\">\n",
       "  <thead>\n",
       "    <tr style=\"text-align: right;\">\n",
       "      <th></th>\n",
       "      <th>company</th>\n",
       "      <th>cik</th>\n",
       "    </tr>\n",
       "  </thead>\n",
       "  <tbody>\n",
       "    <tr>\n",
       "      <th>0</th>\n",
       "      <td>!J INC</td>\n",
       "      <td>0001438823</td>\n",
       "    </tr>\n",
       "    <tr>\n",
       "      <th>1</th>\n",
       "      <td>#1 A LIFESAFER HOLDINGS, INC.</td>\n",
       "      <td>0001509607</td>\n",
       "    </tr>\n",
       "  </tbody>\n",
       "</table>\n",
       "</div>"
      ],
      "text/plain": [
       "                         company         cik\n",
       "0                         !J INC  0001438823\n",
       "1  #1 A LIFESAFER HOLDINGS, INC.  0001509607"
      ]
     },
     "execution_count": 8,
     "metadata": {},
     "output_type": "execute_result"
    }
   ],
   "source": [
    "print(company_cik_codes_df.shape)\n",
    "company_cik_codes_df.head(2)"
   ]
  },
  {
   "cell_type": "code",
   "execution_count": 9,
   "id": "dbe09222-359f-4718-99a9-38c71188fe89",
   "metadata": {},
   "outputs": [],
   "source": [
    "base_url = \"https://www.sec.gov/Archives/edgar/Feed/\"\n",
    "\n",
    "resp = requests.get(base_url, headers={\"User-Agent\": os.environ[\"email\"]})"
   ]
  },
  {
   "cell_type": "code",
   "execution_count": 10,
   "id": "6aff46b5-90e5-431a-a608-7ee6a0748838",
   "metadata": {},
   "outputs": [],
   "source": [
    "soup = BeautifulSoup(resp.content)\n",
    "tables = soup.find_all(\"table\")\n",
    "assert len(tables) == 1, (\n",
    "    f\"More tables than expected found on the page at {base_url}. Investigate.\"\n",
    ")\n",
    "year_table = tables[0]\n",
    "year_table_rows = year_table.find_all(\"tr\")"
   ]
  },
  {
   "cell_type": "code",
   "execution_count": 14,
   "id": "23778c62-afb1-4ae0-a28b-3d45dca1cdfa",
   "metadata": {},
   "outputs": [
    {
     "data": {
      "text/plain": [
       "[<tr><th>Name</th><th>Size</th><th>Last Modified</th>\n",
       " </tr>,\n",
       " <tr><td><a href=\"1995/\"><img alt=\"folder icon\" class=\"img_icon\" src=\"/icons/folder.gif\"/>1995</a></td><td> </td><td>05/02/2017 08:59:46 AM</td></tr>,\n",
       " <tr><td><a href=\"1996/\"><img alt=\"folder icon\" class=\"img_icon\" src=\"/icons/folder.gif\"/>1996</a></td><td> </td><td>05/02/2017 09:02:18 AM</td></tr>,\n",
       " <tr><td><a href=\"1997/\"><img alt=\"folder icon\" class=\"img_icon\" src=\"/icons/folder.gif\"/>1997</a></td><td> </td><td>05/02/2017 09:05:27 AM</td></tr>,\n",
       " <tr><td><a href=\"1998/\"><img alt=\"folder icon\" class=\"img_icon\" src=\"/icons/folder.gif\"/>1998</a></td><td> </td><td>05/02/2017 09:09:46 AM</td></tr>,\n",
       " <tr><td><a href=\"1999/\"><img alt=\"folder icon\" class=\"img_icon\" src=\"/icons/folder.gif\"/>1999</a></td><td> </td><td>05/02/2017 09:10:23 AM</td></tr>,\n",
       " <tr><td><a href=\"2000/\"><img alt=\"folder icon\" class=\"img_icon\" src=\"/icons/folder.gif\"/>2000</a></td><td> </td><td>03/28/2018 08:13:38 AM</td></tr>,\n",
       " <tr><td><a href=\"2001/\"><img alt=\"folder icon\" class=\"img_icon\" src=\"/icons/folder.gif\"/>2001</a></td><td> </td><td>03/28/2018 08:15:42 AM</td></tr>,\n",
       " <tr><td><a href=\"2002/\"><img alt=\"folder icon\" class=\"img_icon\" src=\"/icons/folder.gif\"/>2002</a></td><td> </td><td>03/28/2018 08:15:50 AM</td></tr>,\n",
       " <tr><td><a href=\"2003/\"><img alt=\"folder icon\" class=\"img_icon\" src=\"/icons/folder.gif\"/>2003</a></td><td> </td><td>03/28/2018 08:15:57 AM</td></tr>,\n",
       " <tr><td><a href=\"2004/\"><img alt=\"folder icon\" class=\"img_icon\" src=\"/icons/folder.gif\"/>2004</a></td><td> </td><td>03/28/2018 08:16:04 AM</td></tr>,\n",
       " <tr><td><a href=\"2005/\"><img alt=\"folder icon\" class=\"img_icon\" src=\"/icons/folder.gif\"/>2005</a></td><td> </td><td>03/28/2018 08:16:10 AM</td></tr>,\n",
       " <tr><td><a href=\"2006/\"><img alt=\"folder icon\" class=\"img_icon\" src=\"/icons/folder.gif\"/>2006</a></td><td> </td><td>03/28/2018 08:16:16 AM</td></tr>,\n",
       " <tr><td><a href=\"2007/\"><img alt=\"folder icon\" class=\"img_icon\" src=\"/icons/folder.gif\"/>2007</a></td><td> </td><td>03/28/2018 08:16:23 AM</td></tr>,\n",
       " <tr><td><a href=\"2008/\"><img alt=\"folder icon\" class=\"img_icon\" src=\"/icons/folder.gif\"/>2008</a></td><td> </td><td>03/28/2018 08:16:30 AM</td></tr>,\n",
       " <tr><td><a href=\"2009/\"><img alt=\"folder icon\" class=\"img_icon\" src=\"/icons/folder.gif\"/>2009</a></td><td> </td><td>03/28/2018 08:16:39 AM</td></tr>,\n",
       " <tr><td><a href=\"2010/\"><img alt=\"folder icon\" class=\"img_icon\" src=\"/icons/folder.gif\"/>2010</a></td><td> </td><td>05/22/2018 08:54:02 AM</td></tr>,\n",
       " <tr><td><a href=\"2011/\"><img alt=\"folder icon\" class=\"img_icon\" src=\"/icons/folder.gif\"/>2011</a></td><td> </td><td>05/22/2018 08:54:53 AM</td></tr>,\n",
       " <tr><td><a href=\"2012/\"><img alt=\"folder icon\" class=\"img_icon\" src=\"/icons/folder.gif\"/>2012</a></td><td> </td><td>05/22/2018 08:55:05 AM</td></tr>,\n",
       " <tr><td><a href=\"2013/\"><img alt=\"folder icon\" class=\"img_icon\" src=\"/icons/folder.gif\"/>2013</a></td><td> </td><td>05/22/2018 08:55:13 AM</td></tr>,\n",
       " <tr><td><a href=\"2014/\"><img alt=\"folder icon\" class=\"img_icon\" src=\"/icons/folder.gif\"/>2014</a></td><td> </td><td>05/22/2018 08:55:23 AM</td></tr>,\n",
       " <tr><td><a href=\"2015/\"><img alt=\"folder icon\" class=\"img_icon\" src=\"/icons/folder.gif\"/>2015</a></td><td> </td><td>05/22/2018 08:56:13 AM</td></tr>,\n",
       " <tr><td><a href=\"2016/\"><img alt=\"folder icon\" class=\"img_icon\" src=\"/icons/folder.gif\"/>2016</a></td><td> </td><td>05/22/2018 08:56:48 AM</td></tr>,\n",
       " <tr><td><a href=\"2017/\"><img alt=\"folder icon\" class=\"img_icon\" src=\"/icons/folder.gif\"/>2017</a></td><td> </td><td>05/22/2018 08:56:57 AM</td></tr>,\n",
       " <tr><td><a href=\"2018/\"><img alt=\"folder icon\" class=\"img_icon\" src=\"/icons/folder.gif\"/>2018</a></td><td> </td><td>02/27/2019 08:40:24 AM</td></tr>,\n",
       " <tr><td><a href=\"2019/\"><img alt=\"folder icon\" class=\"img_icon\" src=\"/icons/folder.gif\"/>2019</a></td><td> </td><td>07/13/2020 03:03:24 PM</td></tr>,\n",
       " <tr><td><a href=\"2020/\"><img alt=\"folder icon\" class=\"img_icon\" src=\"/icons/folder.gif\"/>2020</a></td><td> </td><td>11/11/2020 09:26:39 AM</td></tr>,\n",
       " <tr><td><a href=\"2021/\"><img alt=\"folder icon\" class=\"img_icon\" src=\"/icons/folder.gif\"/>2021</a></td><td> </td><td>01/28/2022 09:45:39 PM</td></tr>,\n",
       " <tr><td><a href=\"2022/\"><img alt=\"folder icon\" class=\"img_icon\" src=\"/icons/folder.gif\"/>2022</a></td><td> </td><td>04/01/2022 12:20:15 AM</td></tr>]"
      ]
     },
     "execution_count": 14,
     "metadata": {},
     "output_type": "execute_result"
    }
   ],
   "source": [
    "year_table_rows"
   ]
  },
  {
   "cell_type": "code",
   "execution_count": 26,
   "id": "7acbe001-88a3-45c6-a66f-beee87fb74b0",
   "metadata": {},
   "outputs": [
    {
     "data": {
      "text/plain": [
       "['Name', 'Size', 'Last Modified']"
      ]
     },
     "execution_count": 26,
     "metadata": {},
     "output_type": "execute_result"
    }
   ],
   "source": [
    "table_header_line = year_table_rows[0].find_all(\"th\")\n",
    "table_header = [el.text for el in table_header_line]\n",
    "table_header"
   ]
  },
  {
   "cell_type": "code",
   "execution_count": 25,
   "id": "1bf3118d-fe0e-4418-8c5e-c4460e50c225",
   "metadata": {},
   "outputs": [
    {
     "data": {
      "text/plain": [
       "['Name', 'Size', 'Last Modified']"
      ]
     },
     "execution_count": 25,
     "metadata": {},
     "output_type": "execute_result"
    }
   ],
   "source": []
  },
  {
   "cell_type": "code",
   "execution_count": 27,
   "id": "ec8a2a3c-5b19-4ccf-ac4e-76a27788b5eb",
   "metadata": {},
   "outputs": [
    {
     "data": {
      "text/plain": [
       "[<td><a href=\"1995/\"><img alt=\"folder icon\" class=\"img_icon\" src=\"/icons/folder.gif\"/>1995</a></td>,\n",
       " <td> </td>,\n",
       " <td>05/02/2017 08:59:46 AM</td>]"
      ]
     },
     "execution_count": 27,
     "metadata": {},
     "output_type": "execute_result"
    }
   ],
   "source": [
    "table_data_row = year_table_rows[1].find_all(\"td\")\n",
    "table_data_row"
   ]
  },
  {
   "cell_type": "code",
   "execution_count": null,
   "id": "a69187fc-b248-4fe3-9a97-24116948390a",
   "metadata": {},
   "outputs": [],
   "source": [
    "table_data_row[0]"
   ]
  },
  {
   "cell_type": "code",
   "execution_count": null,
   "id": "281b912e-6c28-4851-a05d-683240833a29",
   "metadata": {},
   "outputs": [],
   "source": []
  },
  {
   "cell_type": "code",
   "execution_count": null,
   "id": "3e5ec719-59f8-4b12-80fd-2fe4447e4814",
   "metadata": {},
   "outputs": [],
   "source": []
  },
  {
   "cell_type": "code",
   "execution_count": 13,
   "id": "5647fc8c-0512-431a-9667-6d6bfb5c3f46",
   "metadata": {},
   "outputs": [
    {
     "data": {
      "text/plain": [
       "['DEFAULT_INTERESTING_STRING_TYPES',\n",
       " '__bool__',\n",
       " '__call__',\n",
       " '__class__',\n",
       " '__contains__',\n",
       " '__copy__',\n",
       " '__delattr__',\n",
       " '__delitem__',\n",
       " '__dict__',\n",
       " '__dir__',\n",
       " '__doc__',\n",
       " '__eq__',\n",
       " '__format__',\n",
       " '__ge__',\n",
       " '__getattr__',\n",
       " '__getattribute__',\n",
       " '__getitem__',\n",
       " '__gt__',\n",
       " '__hash__',\n",
       " '__init__',\n",
       " '__init_subclass__',\n",
       " '__iter__',\n",
       " '__le__',\n",
       " '__len__',\n",
       " '__lt__',\n",
       " '__module__',\n",
       " '__ne__',\n",
       " '__new__',\n",
       " '__reduce__',\n",
       " '__reduce_ex__',\n",
       " '__repr__',\n",
       " '__setattr__',\n",
       " '__setitem__',\n",
       " '__sizeof__',\n",
       " '__str__',\n",
       " '__subclasshook__',\n",
       " '__unicode__',\n",
       " '__weakref__',\n",
       " '_all_strings',\n",
       " '_find_all',\n",
       " '_find_one',\n",
       " '_is_xml',\n",
       " '_lastRecursiveChild',\n",
       " '_last_descendant',\n",
       " '_namespaces',\n",
       " '_should_pretty_print',\n",
       " 'append',\n",
       " 'attrs',\n",
       " 'can_be_empty_element',\n",
       " 'cdata_list_attributes',\n",
       " 'childGenerator',\n",
       " 'children',\n",
       " 'clear',\n",
       " 'contents',\n",
       " 'decode',\n",
       " 'decode_contents',\n",
       " 'decompose',\n",
       " 'decomposed',\n",
       " 'default',\n",
       " 'descendants',\n",
       " 'encode',\n",
       " 'encode_contents',\n",
       " 'extend',\n",
       " 'extract',\n",
       " 'fetchNextSiblings',\n",
       " 'fetchParents',\n",
       " 'fetchPrevious',\n",
       " 'fetchPreviousSiblings',\n",
       " 'find',\n",
       " 'findAll',\n",
       " 'findAllNext',\n",
       " 'findAllPrevious',\n",
       " 'findChild',\n",
       " 'findChildren',\n",
       " 'findNext',\n",
       " 'findNextSibling',\n",
       " 'findNextSiblings',\n",
       " 'findParent',\n",
       " 'findParents',\n",
       " 'findPrevious',\n",
       " 'findPreviousSibling',\n",
       " 'findPreviousSiblings',\n",
       " 'find_all',\n",
       " 'find_all_next',\n",
       " 'find_all_previous',\n",
       " 'find_next',\n",
       " 'find_next_sibling',\n",
       " 'find_next_siblings',\n",
       " 'find_parent',\n",
       " 'find_parents',\n",
       " 'find_previous',\n",
       " 'find_previous_sibling',\n",
       " 'find_previous_siblings',\n",
       " 'format_string',\n",
       " 'formatter_for_name',\n",
       " 'get',\n",
       " 'getText',\n",
       " 'get_attribute_list',\n",
       " 'get_text',\n",
       " 'has_attr',\n",
       " 'has_key',\n",
       " 'hidden',\n",
       " 'index',\n",
       " 'insert',\n",
       " 'insert_after',\n",
       " 'insert_before',\n",
       " 'interesting_string_types',\n",
       " 'isSelfClosing',\n",
       " 'is_empty_element',\n",
       " 'known_xml',\n",
       " 'name',\n",
       " 'namespace',\n",
       " 'next',\n",
       " 'nextGenerator',\n",
       " 'nextSibling',\n",
       " 'nextSiblingGenerator',\n",
       " 'next_element',\n",
       " 'next_elements',\n",
       " 'next_sibling',\n",
       " 'next_siblings',\n",
       " 'parent',\n",
       " 'parentGenerator',\n",
       " 'parents',\n",
       " 'parserClass',\n",
       " 'parser_class',\n",
       " 'prefix',\n",
       " 'preserve_whitespace_tags',\n",
       " 'prettify',\n",
       " 'previous',\n",
       " 'previousGenerator',\n",
       " 'previousSibling',\n",
       " 'previousSiblingGenerator',\n",
       " 'previous_element',\n",
       " 'previous_elements',\n",
       " 'previous_sibling',\n",
       " 'previous_siblings',\n",
       " 'recursiveChildGenerator',\n",
       " 'renderContents',\n",
       " 'replaceWith',\n",
       " 'replaceWithChildren',\n",
       " 'replace_with',\n",
       " 'replace_with_children',\n",
       " 'select',\n",
       " 'select_one',\n",
       " 'setup',\n",
       " 'smooth',\n",
       " 'string',\n",
       " 'strings',\n",
       " 'stripped_strings',\n",
       " 'text',\n",
       " 'unwrap',\n",
       " 'wrap']"
      ]
     },
     "execution_count": 13,
     "metadata": {},
     "output_type": "execute_result"
    }
   ],
   "source": [
    "dir(year_table_rows[0])"
   ]
  },
  {
   "cell_type": "code",
   "execution_count": 12,
   "id": "431e69b5-df22-4ca1-bc0a-4be3f44a2640",
   "metadata": {},
   "outputs": [],
   "source": []
  },
  {
   "cell_type": "code",
   "execution_count": 13,
   "id": "8d425a3e-55e2-4da8-83e4-7b40a5be0265",
   "metadata": {},
   "outputs": [],
   "source": []
  },
  {
   "cell_type": "code",
   "execution_count": 14,
   "id": "a12dc669-4c00-4389-98bc-cb58cc0b581c",
   "metadata": {},
   "outputs": [
    {
     "data": {
      "text/plain": [
       "<table summary=\"heding\"><tr><th>Name</th><th>Size</th><th>Last Modified</th>\n",
       "</tr><tr><td><a href=\"1995/\"><img alt=\"folder icon\" class=\"img_icon\" src=\"/icons/folder.gif\"/>1995</a></td><td> </td><td>05/02/2017 08:59:46 AM</td></tr>\n",
       "<tr><td><a href=\"1996/\"><img alt=\"folder icon\" class=\"img_icon\" src=\"/icons/folder.gif\"/>1996</a></td><td> </td><td>05/02/2017 09:02:18 AM</td></tr>\n",
       "<tr><td><a href=\"1997/\"><img alt=\"folder icon\" class=\"img_icon\" src=\"/icons/folder.gif\"/>1997</a></td><td> </td><td>05/02/2017 09:05:27 AM</td></tr>\n",
       "<tr><td><a href=\"1998/\"><img alt=\"folder icon\" class=\"img_icon\" src=\"/icons/folder.gif\"/>1998</a></td><td> </td><td>05/02/2017 09:09:46 AM</td></tr>\n",
       "<tr><td><a href=\"1999/\"><img alt=\"folder icon\" class=\"img_icon\" src=\"/icons/folder.gif\"/>1999</a></td><td> </td><td>05/02/2017 09:10:23 AM</td></tr>\n",
       "<tr><td><a href=\"2000/\"><img alt=\"folder icon\" class=\"img_icon\" src=\"/icons/folder.gif\"/>2000</a></td><td> </td><td>03/28/2018 08:13:38 AM</td></tr>\n",
       "<tr><td><a href=\"2001/\"><img alt=\"folder icon\" class=\"img_icon\" src=\"/icons/folder.gif\"/>2001</a></td><td> </td><td>03/28/2018 08:15:42 AM</td></tr>\n",
       "<tr><td><a href=\"2002/\"><img alt=\"folder icon\" class=\"img_icon\" src=\"/icons/folder.gif\"/>2002</a></td><td> </td><td>03/28/2018 08:15:50 AM</td></tr>\n",
       "<tr><td><a href=\"2003/\"><img alt=\"folder icon\" class=\"img_icon\" src=\"/icons/folder.gif\"/>2003</a></td><td> </td><td>03/28/2018 08:15:57 AM</td></tr>\n",
       "<tr><td><a href=\"2004/\"><img alt=\"folder icon\" class=\"img_icon\" src=\"/icons/folder.gif\"/>2004</a></td><td> </td><td>03/28/2018 08:16:04 AM</td></tr>\n",
       "<tr><td><a href=\"2005/\"><img alt=\"folder icon\" class=\"img_icon\" src=\"/icons/folder.gif\"/>2005</a></td><td> </td><td>03/28/2018 08:16:10 AM</td></tr>\n",
       "<tr><td><a href=\"2006/\"><img alt=\"folder icon\" class=\"img_icon\" src=\"/icons/folder.gif\"/>2006</a></td><td> </td><td>03/28/2018 08:16:16 AM</td></tr>\n",
       "<tr><td><a href=\"2007/\"><img alt=\"folder icon\" class=\"img_icon\" src=\"/icons/folder.gif\"/>2007</a></td><td> </td><td>03/28/2018 08:16:23 AM</td></tr>\n",
       "<tr><td><a href=\"2008/\"><img alt=\"folder icon\" class=\"img_icon\" src=\"/icons/folder.gif\"/>2008</a></td><td> </td><td>03/28/2018 08:16:30 AM</td></tr>\n",
       "<tr><td><a href=\"2009/\"><img alt=\"folder icon\" class=\"img_icon\" src=\"/icons/folder.gif\"/>2009</a></td><td> </td><td>03/28/2018 08:16:39 AM</td></tr>\n",
       "<tr><td><a href=\"2010/\"><img alt=\"folder icon\" class=\"img_icon\" src=\"/icons/folder.gif\"/>2010</a></td><td> </td><td>05/22/2018 08:54:02 AM</td></tr>\n",
       "<tr><td><a href=\"2011/\"><img alt=\"folder icon\" class=\"img_icon\" src=\"/icons/folder.gif\"/>2011</a></td><td> </td><td>05/22/2018 08:54:53 AM</td></tr>\n",
       "<tr><td><a href=\"2012/\"><img alt=\"folder icon\" class=\"img_icon\" src=\"/icons/folder.gif\"/>2012</a></td><td> </td><td>05/22/2018 08:55:05 AM</td></tr>\n",
       "<tr><td><a href=\"2013/\"><img alt=\"folder icon\" class=\"img_icon\" src=\"/icons/folder.gif\"/>2013</a></td><td> </td><td>05/22/2018 08:55:13 AM</td></tr>\n",
       "<tr><td><a href=\"2014/\"><img alt=\"folder icon\" class=\"img_icon\" src=\"/icons/folder.gif\"/>2014</a></td><td> </td><td>05/22/2018 08:55:23 AM</td></tr>\n",
       "<tr><td><a href=\"2015/\"><img alt=\"folder icon\" class=\"img_icon\" src=\"/icons/folder.gif\"/>2015</a></td><td> </td><td>05/22/2018 08:56:13 AM</td></tr>\n",
       "<tr><td><a href=\"2016/\"><img alt=\"folder icon\" class=\"img_icon\" src=\"/icons/folder.gif\"/>2016</a></td><td> </td><td>05/22/2018 08:56:48 AM</td></tr>\n",
       "<tr><td><a href=\"2017/\"><img alt=\"folder icon\" class=\"img_icon\" src=\"/icons/folder.gif\"/>2017</a></td><td> </td><td>05/22/2018 08:56:57 AM</td></tr>\n",
       "<tr><td><a href=\"2018/\"><img alt=\"folder icon\" class=\"img_icon\" src=\"/icons/folder.gif\"/>2018</a></td><td> </td><td>02/27/2019 08:40:24 AM</td></tr>\n",
       "<tr><td><a href=\"2019/\"><img alt=\"folder icon\" class=\"img_icon\" src=\"/icons/folder.gif\"/>2019</a></td><td> </td><td>07/13/2020 03:03:24 PM</td></tr>\n",
       "<tr><td><a href=\"2020/\"><img alt=\"folder icon\" class=\"img_icon\" src=\"/icons/folder.gif\"/>2020</a></td><td> </td><td>11/11/2020 09:26:39 AM</td></tr>\n",
       "<tr><td><a href=\"2021/\"><img alt=\"folder icon\" class=\"img_icon\" src=\"/icons/folder.gif\"/>2021</a></td><td> </td><td>01/28/2022 09:45:39 PM</td></tr>\n",
       "<tr><td><a href=\"2022/\"><img alt=\"folder icon\" class=\"img_icon\" src=\"/icons/folder.gif\"/>2022</a></td><td> </td><td>04/01/2022 12:20:15 AM</td></tr>\n",
       "</table>"
      ]
     },
     "execution_count": 14,
     "metadata": {},
     "output_type": "execute_result"
    }
   ],
   "source": [
    "\n",
    "year_table"
   ]
  },
  {
   "cell_type": "code",
   "execution_count": 20,
   "id": "0c02db57-fb7e-4032-88fa-aa04c94300c7",
   "metadata": {},
   "outputs": [],
   "source": []
  },
  {
   "cell_type": "code",
   "execution_count": 21,
   "id": "dedbe0ed-1200-4540-9271-0d3da619c4a8",
   "metadata": {},
   "outputs": [
    {
     "data": {
      "text/plain": [
       "[<tr><th>Name</th><th>Size</th><th>Last Modified</th>\n",
       " </tr>,\n",
       " <tr><td><a href=\"1995/\"><img alt=\"folder icon\" class=\"img_icon\" src=\"/icons/folder.gif\"/>1995</a></td><td> </td><td>05/02/2017 08:59:46 AM</td></tr>,\n",
       " <tr><td><a href=\"1996/\"><img alt=\"folder icon\" class=\"img_icon\" src=\"/icons/folder.gif\"/>1996</a></td><td> </td><td>05/02/2017 09:02:18 AM</td></tr>,\n",
       " <tr><td><a href=\"1997/\"><img alt=\"folder icon\" class=\"img_icon\" src=\"/icons/folder.gif\"/>1997</a></td><td> </td><td>05/02/2017 09:05:27 AM</td></tr>,\n",
       " <tr><td><a href=\"1998/\"><img alt=\"folder icon\" class=\"img_icon\" src=\"/icons/folder.gif\"/>1998</a></td><td> </td><td>05/02/2017 09:09:46 AM</td></tr>,\n",
       " <tr><td><a href=\"1999/\"><img alt=\"folder icon\" class=\"img_icon\" src=\"/icons/folder.gif\"/>1999</a></td><td> </td><td>05/02/2017 09:10:23 AM</td></tr>,\n",
       " <tr><td><a href=\"2000/\"><img alt=\"folder icon\" class=\"img_icon\" src=\"/icons/folder.gif\"/>2000</a></td><td> </td><td>03/28/2018 08:13:38 AM</td></tr>,\n",
       " <tr><td><a href=\"2001/\"><img alt=\"folder icon\" class=\"img_icon\" src=\"/icons/folder.gif\"/>2001</a></td><td> </td><td>03/28/2018 08:15:42 AM</td></tr>,\n",
       " <tr><td><a href=\"2002/\"><img alt=\"folder icon\" class=\"img_icon\" src=\"/icons/folder.gif\"/>2002</a></td><td> </td><td>03/28/2018 08:15:50 AM</td></tr>,\n",
       " <tr><td><a href=\"2003/\"><img alt=\"folder icon\" class=\"img_icon\" src=\"/icons/folder.gif\"/>2003</a></td><td> </td><td>03/28/2018 08:15:57 AM</td></tr>,\n",
       " <tr><td><a href=\"2004/\"><img alt=\"folder icon\" class=\"img_icon\" src=\"/icons/folder.gif\"/>2004</a></td><td> </td><td>03/28/2018 08:16:04 AM</td></tr>,\n",
       " <tr><td><a href=\"2005/\"><img alt=\"folder icon\" class=\"img_icon\" src=\"/icons/folder.gif\"/>2005</a></td><td> </td><td>03/28/2018 08:16:10 AM</td></tr>,\n",
       " <tr><td><a href=\"2006/\"><img alt=\"folder icon\" class=\"img_icon\" src=\"/icons/folder.gif\"/>2006</a></td><td> </td><td>03/28/2018 08:16:16 AM</td></tr>,\n",
       " <tr><td><a href=\"2007/\"><img alt=\"folder icon\" class=\"img_icon\" src=\"/icons/folder.gif\"/>2007</a></td><td> </td><td>03/28/2018 08:16:23 AM</td></tr>,\n",
       " <tr><td><a href=\"2008/\"><img alt=\"folder icon\" class=\"img_icon\" src=\"/icons/folder.gif\"/>2008</a></td><td> </td><td>03/28/2018 08:16:30 AM</td></tr>,\n",
       " <tr><td><a href=\"2009/\"><img alt=\"folder icon\" class=\"img_icon\" src=\"/icons/folder.gif\"/>2009</a></td><td> </td><td>03/28/2018 08:16:39 AM</td></tr>,\n",
       " <tr><td><a href=\"2010/\"><img alt=\"folder icon\" class=\"img_icon\" src=\"/icons/folder.gif\"/>2010</a></td><td> </td><td>05/22/2018 08:54:02 AM</td></tr>,\n",
       " <tr><td><a href=\"2011/\"><img alt=\"folder icon\" class=\"img_icon\" src=\"/icons/folder.gif\"/>2011</a></td><td> </td><td>05/22/2018 08:54:53 AM</td></tr>,\n",
       " <tr><td><a href=\"2012/\"><img alt=\"folder icon\" class=\"img_icon\" src=\"/icons/folder.gif\"/>2012</a></td><td> </td><td>05/22/2018 08:55:05 AM</td></tr>,\n",
       " <tr><td><a href=\"2013/\"><img alt=\"folder icon\" class=\"img_icon\" src=\"/icons/folder.gif\"/>2013</a></td><td> </td><td>05/22/2018 08:55:13 AM</td></tr>,\n",
       " <tr><td><a href=\"2014/\"><img alt=\"folder icon\" class=\"img_icon\" src=\"/icons/folder.gif\"/>2014</a></td><td> </td><td>05/22/2018 08:55:23 AM</td></tr>,\n",
       " <tr><td><a href=\"2015/\"><img alt=\"folder icon\" class=\"img_icon\" src=\"/icons/folder.gif\"/>2015</a></td><td> </td><td>05/22/2018 08:56:13 AM</td></tr>,\n",
       " <tr><td><a href=\"2016/\"><img alt=\"folder icon\" class=\"img_icon\" src=\"/icons/folder.gif\"/>2016</a></td><td> </td><td>05/22/2018 08:56:48 AM</td></tr>,\n",
       " <tr><td><a href=\"2017/\"><img alt=\"folder icon\" class=\"img_icon\" src=\"/icons/folder.gif\"/>2017</a></td><td> </td><td>05/22/2018 08:56:57 AM</td></tr>,\n",
       " <tr><td><a href=\"2018/\"><img alt=\"folder icon\" class=\"img_icon\" src=\"/icons/folder.gif\"/>2018</a></td><td> </td><td>02/27/2019 08:40:24 AM</td></tr>,\n",
       " <tr><td><a href=\"2019/\"><img alt=\"folder icon\" class=\"img_icon\" src=\"/icons/folder.gif\"/>2019</a></td><td> </td><td>07/13/2020 03:03:24 PM</td></tr>,\n",
       " <tr><td><a href=\"2020/\"><img alt=\"folder icon\" class=\"img_icon\" src=\"/icons/folder.gif\"/>2020</a></td><td> </td><td>11/11/2020 09:26:39 AM</td></tr>,\n",
       " <tr><td><a href=\"2021/\"><img alt=\"folder icon\" class=\"img_icon\" src=\"/icons/folder.gif\"/>2021</a></td><td> </td><td>01/28/2022 09:45:39 PM</td></tr>,\n",
       " <tr><td><a href=\"2022/\"><img alt=\"folder icon\" class=\"img_icon\" src=\"/icons/folder.gif\"/>2022</a></td><td> </td><td>04/01/2022 12:20:15 AM</td></tr>]"
      ]
     },
     "execution_count": 21,
     "metadata": {},
     "output_type": "execute_result"
    }
   ],
   "source": [
    "year_table_rows"
   ]
  },
  {
   "cell_type": "code",
   "execution_count": 16,
   "id": "bdc2c826-246e-411b-937a-853b0df6b82b",
   "metadata": {},
   "outputs": [
    {
     "data": {
      "text/plain": [
       "'NameSizeLast Modified\\n1995\\xa005/02/2017 08:59:46 AM\\n1996\\xa005/02/2017 09:02:18 AM\\n1997\\xa005/02/2017 09:05:27 AM\\n1998\\xa005/02/2017 09:09:46 AM\\n1999\\xa005/02/2017 09:10:23 AM\\n2000\\xa003/28/2018 08:13:38 AM\\n2001\\xa003/28/2018 08:15:42 AM\\n2002\\xa003/28/2018 08:15:50 AM\\n2003\\xa003/28/2018 08:15:57 AM\\n2004\\xa003/28/2018 08:16:04 AM\\n2005\\xa003/28/2018 08:16:10 AM\\n2006\\xa003/28/2018 08:16:16 AM\\n2007\\xa003/28/2018 08:16:23 AM\\n2008\\xa003/28/2018 08:16:30 AM\\n2009\\xa003/28/2018 08:16:39 AM\\n2010\\xa005/22/2018 08:54:02 AM\\n2011\\xa005/22/2018 08:54:53 AM\\n2012\\xa005/22/2018 08:55:05 AM\\n2013\\xa005/22/2018 08:55:13 AM\\n2014\\xa005/22/2018 08:55:23 AM\\n2015\\xa005/22/2018 08:56:13 AM\\n2016\\xa005/22/2018 08:56:48 AM\\n2017\\xa005/22/2018 08:56:57 AM\\n2018\\xa002/27/2019 08:40:24 AM\\n2019\\xa007/13/2020 03:03:24 PM\\n2020\\xa011/11/2020 09:26:39 AM\\n2021\\xa001/28/2022 09:45:39 PM\\n2022\\xa004/01/2022 12:20:15 AM\\n'"
      ]
     },
     "execution_count": 16,
     "metadata": {},
     "output_type": "execute_result"
    }
   ],
   "source": [
    "year_table.text"
   ]
  },
  {
   "cell_type": "code",
   "execution_count": null,
   "id": "85b22764-51c2-47a4-bef5-a27d0f9819c9",
   "metadata": {},
   "outputs": [],
   "source": []
  },
  {
   "cell_type": "code",
   "execution_count": 17,
   "id": "5fad1472-c466-4a88-a3df-467d0446cdb0",
   "metadata": {},
   "outputs": [
    {
     "ename": "TypeError",
     "evalue": "'NoneType' object is not callable",
     "output_type": "error",
     "traceback": [
      "\u001b[0;31m---------------------------------------------------------------------------\u001b[0m",
      "\u001b[0;31mTypeError\u001b[0m                                 Traceback (most recent call last)",
      "Cell \u001b[0;32mIn [17], line 2\u001b[0m\n\u001b[1;32m      1\u001b[0m \u001b[38;5;66;03m# installed lxml and html5lib\u001b[39;00m\n\u001b[0;32m----> 2\u001b[0m table_df \u001b[38;5;241m=\u001b[39m pd\u001b[38;5;241m.\u001b[39mread_html(year_table)\n",
      "File \u001b[0;32m~/miniconda3/envs/geo_env/lib/python3.10/site-packages/pandas/util/_decorators.py:317\u001b[0m, in \u001b[0;36mdeprecate_nonkeyword_arguments.<locals>.decorate.<locals>.wrapper\u001b[0;34m(*args, **kwargs)\u001b[0m\n\u001b[1;32m    311\u001b[0m \u001b[38;5;28;01mif\u001b[39;00m \u001b[38;5;28mlen\u001b[39m(args) \u001b[38;5;241m>\u001b[39m num_allow_args:\n\u001b[1;32m    312\u001b[0m     warnings\u001b[38;5;241m.\u001b[39mwarn(\n\u001b[1;32m    313\u001b[0m         msg\u001b[38;5;241m.\u001b[39mformat(arguments\u001b[38;5;241m=\u001b[39marguments),\n\u001b[1;32m    314\u001b[0m         \u001b[38;5;167;01mFutureWarning\u001b[39;00m,\n\u001b[1;32m    315\u001b[0m         stacklevel\u001b[38;5;241m=\u001b[39mfind_stack_level(inspect\u001b[38;5;241m.\u001b[39mcurrentframe()),\n\u001b[1;32m    316\u001b[0m     )\n\u001b[0;32m--> 317\u001b[0m \u001b[38;5;28;01mreturn\u001b[39;00m \u001b[43mfunc\u001b[49m\u001b[43m(\u001b[49m\u001b[38;5;241;43m*\u001b[39;49m\u001b[43margs\u001b[49m\u001b[43m,\u001b[49m\u001b[43m \u001b[49m\u001b[38;5;241;43m*\u001b[39;49m\u001b[38;5;241;43m*\u001b[39;49m\u001b[43mkwargs\u001b[49m\u001b[43m)\u001b[49m\n",
      "File \u001b[0;32m~/miniconda3/envs/geo_env/lib/python3.10/site-packages/pandas/io/html.py:1205\u001b[0m, in \u001b[0;36mread_html\u001b[0;34m(io, match, flavor, header, index_col, skiprows, attrs, parse_dates, thousands, encoding, decimal, converters, na_values, keep_default_na, displayed_only, extract_links)\u001b[0m\n\u001b[1;32m   1201\u001b[0m validate_header_arg(header)\n\u001b[1;32m   1203\u001b[0m io \u001b[38;5;241m=\u001b[39m stringify_path(io)\n\u001b[0;32m-> 1205\u001b[0m \u001b[38;5;28;01mreturn\u001b[39;00m \u001b[43m_parse\u001b[49m\u001b[43m(\u001b[49m\n\u001b[1;32m   1206\u001b[0m \u001b[43m    \u001b[49m\u001b[43mflavor\u001b[49m\u001b[38;5;241;43m=\u001b[39;49m\u001b[43mflavor\u001b[49m\u001b[43m,\u001b[49m\n\u001b[1;32m   1207\u001b[0m \u001b[43m    \u001b[49m\u001b[43mio\u001b[49m\u001b[38;5;241;43m=\u001b[39;49m\u001b[43mio\u001b[49m\u001b[43m,\u001b[49m\n\u001b[1;32m   1208\u001b[0m \u001b[43m    \u001b[49m\u001b[43mmatch\u001b[49m\u001b[38;5;241;43m=\u001b[39;49m\u001b[43mmatch\u001b[49m\u001b[43m,\u001b[49m\n\u001b[1;32m   1209\u001b[0m \u001b[43m    \u001b[49m\u001b[43mheader\u001b[49m\u001b[38;5;241;43m=\u001b[39;49m\u001b[43mheader\u001b[49m\u001b[43m,\u001b[49m\n\u001b[1;32m   1210\u001b[0m \u001b[43m    \u001b[49m\u001b[43mindex_col\u001b[49m\u001b[38;5;241;43m=\u001b[39;49m\u001b[43mindex_col\u001b[49m\u001b[43m,\u001b[49m\n\u001b[1;32m   1211\u001b[0m \u001b[43m    \u001b[49m\u001b[43mskiprows\u001b[49m\u001b[38;5;241;43m=\u001b[39;49m\u001b[43mskiprows\u001b[49m\u001b[43m,\u001b[49m\n\u001b[1;32m   1212\u001b[0m \u001b[43m    \u001b[49m\u001b[43mparse_dates\u001b[49m\u001b[38;5;241;43m=\u001b[39;49m\u001b[43mparse_dates\u001b[49m\u001b[43m,\u001b[49m\n\u001b[1;32m   1213\u001b[0m \u001b[43m    \u001b[49m\u001b[43mthousands\u001b[49m\u001b[38;5;241;43m=\u001b[39;49m\u001b[43mthousands\u001b[49m\u001b[43m,\u001b[49m\n\u001b[1;32m   1214\u001b[0m \u001b[43m    \u001b[49m\u001b[43mattrs\u001b[49m\u001b[38;5;241;43m=\u001b[39;49m\u001b[43mattrs\u001b[49m\u001b[43m,\u001b[49m\n\u001b[1;32m   1215\u001b[0m \u001b[43m    \u001b[49m\u001b[43mencoding\u001b[49m\u001b[38;5;241;43m=\u001b[39;49m\u001b[43mencoding\u001b[49m\u001b[43m,\u001b[49m\n\u001b[1;32m   1216\u001b[0m \u001b[43m    \u001b[49m\u001b[43mdecimal\u001b[49m\u001b[38;5;241;43m=\u001b[39;49m\u001b[43mdecimal\u001b[49m\u001b[43m,\u001b[49m\n\u001b[1;32m   1217\u001b[0m \u001b[43m    \u001b[49m\u001b[43mconverters\u001b[49m\u001b[38;5;241;43m=\u001b[39;49m\u001b[43mconverters\u001b[49m\u001b[43m,\u001b[49m\n\u001b[1;32m   1218\u001b[0m \u001b[43m    \u001b[49m\u001b[43mna_values\u001b[49m\u001b[38;5;241;43m=\u001b[39;49m\u001b[43mna_values\u001b[49m\u001b[43m,\u001b[49m\n\u001b[1;32m   1219\u001b[0m \u001b[43m    \u001b[49m\u001b[43mkeep_default_na\u001b[49m\u001b[38;5;241;43m=\u001b[39;49m\u001b[43mkeep_default_na\u001b[49m\u001b[43m,\u001b[49m\n\u001b[1;32m   1220\u001b[0m \u001b[43m    \u001b[49m\u001b[43mdisplayed_only\u001b[49m\u001b[38;5;241;43m=\u001b[39;49m\u001b[43mdisplayed_only\u001b[49m\u001b[43m,\u001b[49m\n\u001b[1;32m   1221\u001b[0m \u001b[43m    \u001b[49m\u001b[43mextract_links\u001b[49m\u001b[38;5;241;43m=\u001b[39;49m\u001b[43mextract_links\u001b[49m\u001b[43m,\u001b[49m\n\u001b[1;32m   1222\u001b[0m \u001b[43m\u001b[49m\u001b[43m)\u001b[49m\n",
      "File \u001b[0;32m~/miniconda3/envs/geo_env/lib/python3.10/site-packages/pandas/io/html.py:986\u001b[0m, in \u001b[0;36m_parse\u001b[0;34m(flavor, io, match, attrs, encoding, displayed_only, extract_links, **kwargs)\u001b[0m\n\u001b[1;32m    983\u001b[0m p \u001b[38;5;241m=\u001b[39m parser(io, compiled_match, attrs, encoding, displayed_only, extract_links)\n\u001b[1;32m    985\u001b[0m \u001b[38;5;28;01mtry\u001b[39;00m:\n\u001b[0;32m--> 986\u001b[0m     tables \u001b[38;5;241m=\u001b[39m \u001b[43mp\u001b[49m\u001b[38;5;241;43m.\u001b[39;49m\u001b[43mparse_tables\u001b[49m\u001b[43m(\u001b[49m\u001b[43m)\u001b[49m\n\u001b[1;32m    987\u001b[0m \u001b[38;5;28;01mexcept\u001b[39;00m \u001b[38;5;167;01mValueError\u001b[39;00m \u001b[38;5;28;01mas\u001b[39;00m caught:\n\u001b[1;32m    988\u001b[0m     \u001b[38;5;66;03m# if `io` is an io-like object, check if it's seekable\u001b[39;00m\n\u001b[1;32m    989\u001b[0m     \u001b[38;5;66;03m# and try to rewind it before trying the next parser\u001b[39;00m\n\u001b[1;32m    990\u001b[0m     \u001b[38;5;28;01mif\u001b[39;00m \u001b[38;5;28mhasattr\u001b[39m(io, \u001b[38;5;124m\"\u001b[39m\u001b[38;5;124mseekable\u001b[39m\u001b[38;5;124m\"\u001b[39m) \u001b[38;5;129;01mand\u001b[39;00m io\u001b[38;5;241m.\u001b[39mseekable():\n",
      "File \u001b[0;32m~/miniconda3/envs/geo_env/lib/python3.10/site-packages/pandas/io/html.py:262\u001b[0m, in \u001b[0;36m_HtmlFrameParser.parse_tables\u001b[0;34m(self)\u001b[0m\n\u001b[1;32m    254\u001b[0m \u001b[38;5;28;01mdef\u001b[39;00m \u001b[38;5;21mparse_tables\u001b[39m(\u001b[38;5;28mself\u001b[39m):\n\u001b[1;32m    255\u001b[0m     \u001b[38;5;124;03m\"\"\"\u001b[39;00m\n\u001b[1;32m    256\u001b[0m \u001b[38;5;124;03m    Parse and return all tables from the DOM.\u001b[39;00m\n\u001b[1;32m    257\u001b[0m \n\u001b[0;32m   (...)\u001b[0m\n\u001b[1;32m    260\u001b[0m \u001b[38;5;124;03m    list of parsed (header, body, footer) tuples from tables.\u001b[39;00m\n\u001b[1;32m    261\u001b[0m \u001b[38;5;124;03m    \"\"\"\u001b[39;00m\n\u001b[0;32m--> 262\u001b[0m     tables \u001b[38;5;241m=\u001b[39m \u001b[38;5;28mself\u001b[39m\u001b[38;5;241m.\u001b[39m_parse_tables(\u001b[38;5;28;43mself\u001b[39;49m\u001b[38;5;241;43m.\u001b[39;49m\u001b[43m_build_doc\u001b[49m\u001b[43m(\u001b[49m\u001b[43m)\u001b[49m, \u001b[38;5;28mself\u001b[39m\u001b[38;5;241m.\u001b[39mmatch, \u001b[38;5;28mself\u001b[39m\u001b[38;5;241m.\u001b[39mattrs)\n\u001b[1;32m    263\u001b[0m     \u001b[38;5;28;01mreturn\u001b[39;00m (\u001b[38;5;28mself\u001b[39m\u001b[38;5;241m.\u001b[39m_parse_thead_tbody_tfoot(table) \u001b[38;5;28;01mfor\u001b[39;00m table \u001b[38;5;129;01min\u001b[39;00m tables)\n",
      "File \u001b[0;32m~/miniconda3/envs/geo_env/lib/python3.10/site-packages/pandas/io/html.py:806\u001b[0m, in \u001b[0;36m_LxmlFrameParser._build_doc\u001b[0;34m(self)\u001b[0m\n\u001b[1;32m    803\u001b[0m         r \u001b[38;5;241m=\u001b[39m parse(f, parser\u001b[38;5;241m=\u001b[39mparser)\n\u001b[1;32m    804\u001b[0m \u001b[38;5;28;01melse\u001b[39;00m:\n\u001b[1;32m    805\u001b[0m     \u001b[38;5;66;03m# try to parse the input in the simplest way\u001b[39;00m\n\u001b[0;32m--> 806\u001b[0m     r \u001b[38;5;241m=\u001b[39m \u001b[43mparse\u001b[49m\u001b[43m(\u001b[49m\u001b[38;5;28;43mself\u001b[39;49m\u001b[38;5;241;43m.\u001b[39;49m\u001b[43mio\u001b[49m\u001b[43m,\u001b[49m\u001b[43m \u001b[49m\u001b[43mparser\u001b[49m\u001b[38;5;241;43m=\u001b[39;49m\u001b[43mparser\u001b[49m\u001b[43m)\u001b[49m\n\u001b[1;32m    807\u001b[0m \u001b[38;5;28;01mtry\u001b[39;00m:\n\u001b[1;32m    808\u001b[0m     r \u001b[38;5;241m=\u001b[39m r\u001b[38;5;241m.\u001b[39mgetroot()\n",
      "File \u001b[0;32m~/miniconda3/envs/geo_env/lib/python3.10/site-packages/lxml/html/__init__.py:937\u001b[0m, in \u001b[0;36mparse\u001b[0;34m(filename_or_url, parser, base_url, **kw)\u001b[0m\n\u001b[1;32m    935\u001b[0m \u001b[38;5;28;01mif\u001b[39;00m parser \u001b[38;5;129;01mis\u001b[39;00m \u001b[38;5;28;01mNone\u001b[39;00m:\n\u001b[1;32m    936\u001b[0m     parser \u001b[38;5;241m=\u001b[39m html_parser\n\u001b[0;32m--> 937\u001b[0m \u001b[38;5;28;01mreturn\u001b[39;00m \u001b[43metree\u001b[49m\u001b[38;5;241;43m.\u001b[39;49m\u001b[43mparse\u001b[49m\u001b[43m(\u001b[49m\u001b[43mfilename_or_url\u001b[49m\u001b[43m,\u001b[49m\u001b[43m \u001b[49m\u001b[43mparser\u001b[49m\u001b[43m,\u001b[49m\u001b[43m \u001b[49m\u001b[43mbase_url\u001b[49m\u001b[38;5;241;43m=\u001b[39;49m\u001b[43mbase_url\u001b[49m\u001b[43m,\u001b[49m\u001b[43m \u001b[49m\u001b[38;5;241;43m*\u001b[39;49m\u001b[38;5;241;43m*\u001b[39;49m\u001b[43mkw\u001b[49m\u001b[43m)\u001b[49m\n",
      "File \u001b[0;32msrc/lxml/etree.pyx:3538\u001b[0m, in \u001b[0;36mlxml.etree.parse\u001b[0;34m()\u001b[0m\n",
      "File \u001b[0;32msrc/lxml/parser.pxi:1892\u001b[0m, in \u001b[0;36mlxml.etree._parseDocument\u001b[0;34m()\u001b[0m\n",
      "\u001b[0;31mTypeError\u001b[0m: 'NoneType' object is not callable"
     ]
    }
   ],
   "source": [
    "# installed lxml and html5lib\n",
    "table_df = pd.read_html(year_table)"
   ]
  },
  {
   "cell_type": "code",
   "execution_count": 80,
   "id": "831f493e-5e7f-4427-a912-d109a8e35491",
   "metadata": {},
   "outputs": [
    {
     "data": {
      "text/plain": [
       "[<tr><th>Name</th><th>Size</th><th>Last Modified</th>\n",
       " <tr><td><a href=\"1995/\"><img alt=\"folder icon\" class=\"img_icon\" src=\"/icons/folder.gif\"/>1995</a></td><td> </td><td>05/02/2017 08:59:46 AM</td></tr>\n",
       " <tr><td><a href=\"1996/\"><img alt=\"folder icon\" class=\"img_icon\" src=\"/icons/folder.gif\"/>1996</a></td><td> </td><td>05/02/2017 09:02:18 AM</td></tr>\n",
       " <tr><td><a href=\"1997/\"><img alt=\"folder icon\" class=\"img_icon\" src=\"/icons/folder.gif\"/>1997</a></td><td> </td><td>05/02/2017 09:05:27 AM</td></tr>\n",
       " <tr><td><a href=\"1998/\"><img alt=\"folder icon\" class=\"img_icon\" src=\"/icons/folder.gif\"/>1998</a></td><td> </td><td>05/02/2017 09:09:46 AM</td></tr>\n",
       " <tr><td><a href=\"1999/\"><img alt=\"folder icon\" class=\"img_icon\" src=\"/icons/folder.gif\"/>1999</a></td><td> </td><td>05/02/2017 09:10:23 AM</td></tr>\n",
       " <tr><td><a href=\"2000/\"><img alt=\"folder icon\" class=\"img_icon\" src=\"/icons/folder.gif\"/>2000</a></td><td> </td><td>03/28/2018 08:13:38 AM</td></tr>\n",
       " <tr><td><a href=\"2001/\"><img alt=\"folder icon\" class=\"img_icon\" src=\"/icons/folder.gif\"/>2001</a></td><td> </td><td>03/28/2018 08:15:42 AM</td></tr>\n",
       " <tr><td><a href=\"2002/\"><img alt=\"folder icon\" class=\"img_icon\" src=\"/icons/folder.gif\"/>2002</a></td><td> </td><td>03/28/2018 08:15:50 AM</td></tr>\n",
       " <tr><td><a href=\"2003/\"><img alt=\"folder icon\" class=\"img_icon\" src=\"/icons/folder.gif\"/>2003</a></td><td> </td><td>03/28/2018 08:15:57 AM</td></tr>\n",
       " <tr><td><a href=\"2004/\"><img alt=\"folder icon\" class=\"img_icon\" src=\"/icons/folder.gif\"/>2004</a></td><td> </td><td>03/28/2018 08:16:04 AM</td></tr>\n",
       " <tr><td><a href=\"2005/\"><img alt=\"folder icon\" class=\"img_icon\" src=\"/icons/folder.gif\"/>2005</a></td><td> </td><td>03/28/2018 08:16:10 AM</td></tr>\n",
       " <tr><td><a href=\"2006/\"><img alt=\"folder icon\" class=\"img_icon\" src=\"/icons/folder.gif\"/>2006</a></td><td> </td><td>03/28/2018 08:16:16 AM</td></tr>\n",
       " <tr><td><a href=\"2007/\"><img alt=\"folder icon\" class=\"img_icon\" src=\"/icons/folder.gif\"/>2007</a></td><td> </td><td>03/28/2018 08:16:23 AM</td></tr>\n",
       " <tr><td><a href=\"2008/\"><img alt=\"folder icon\" class=\"img_icon\" src=\"/icons/folder.gif\"/>2008</a></td><td> </td><td>03/28/2018 08:16:30 AM</td></tr>\n",
       " <tr><td><a href=\"2009/\"><img alt=\"folder icon\" class=\"img_icon\" src=\"/icons/folder.gif\"/>2009</a></td><td> </td><td>03/28/2018 08:16:39 AM</td></tr>\n",
       " <tr><td><a href=\"2010/\"><img alt=\"folder icon\" class=\"img_icon\" src=\"/icons/folder.gif\"/>2010</a></td><td> </td><td>05/22/2018 08:54:02 AM</td></tr>\n",
       " <tr><td><a href=\"2011/\"><img alt=\"folder icon\" class=\"img_icon\" src=\"/icons/folder.gif\"/>2011</a></td><td> </td><td>05/22/2018 08:54:53 AM</td></tr>\n",
       " <tr><td><a href=\"2012/\"><img alt=\"folder icon\" class=\"img_icon\" src=\"/icons/folder.gif\"/>2012</a></td><td> </td><td>05/22/2018 08:55:05 AM</td></tr>\n",
       " <tr><td><a href=\"2013/\"><img alt=\"folder icon\" class=\"img_icon\" src=\"/icons/folder.gif\"/>2013</a></td><td> </td><td>05/22/2018 08:55:13 AM</td></tr>\n",
       " <tr><td><a href=\"2014/\"><img alt=\"folder icon\" class=\"img_icon\" src=\"/icons/folder.gif\"/>2014</a></td><td> </td><td>05/22/2018 08:55:23 AM</td></tr>\n",
       " <tr><td><a href=\"2015/\"><img alt=\"folder icon\" class=\"img_icon\" src=\"/icons/folder.gif\"/>2015</a></td><td> </td><td>05/22/2018 08:56:13 AM</td></tr>\n",
       " <tr><td><a href=\"2016/\"><img alt=\"folder icon\" class=\"img_icon\" src=\"/icons/folder.gif\"/>2016</a></td><td> </td><td>05/22/2018 08:56:48 AM</td></tr>\n",
       " <tr><td><a href=\"2017/\"><img alt=\"folder icon\" class=\"img_icon\" src=\"/icons/folder.gif\"/>2017</a></td><td> </td><td>05/22/2018 08:56:57 AM</td></tr>\n",
       " <tr><td><a href=\"2018/\"><img alt=\"folder icon\" class=\"img_icon\" src=\"/icons/folder.gif\"/>2018</a></td><td> </td><td>02/27/2019 08:40:24 AM</td></tr>\n",
       " <tr><td><a href=\"2019/\"><img alt=\"folder icon\" class=\"img_icon\" src=\"/icons/folder.gif\"/>2019</a></td><td> </td><td>07/13/2020 03:03:24 PM</td></tr>\n",
       " <tr><td><a href=\"2020/\"><img alt=\"folder icon\" class=\"img_icon\" src=\"/icons/folder.gif\"/>2020</a></td><td> </td><td>11/11/2020 09:26:39 AM</td></tr>\n",
       " <tr><td><a href=\"2021/\"><img alt=\"folder icon\" class=\"img_icon\" src=\"/icons/folder.gif\"/>2021</a></td><td> </td><td>01/28/2022 09:45:39 PM</td></tr>\n",
       " <tr><td><a href=\"2022/\"><img alt=\"folder icon\" class=\"img_icon\" src=\"/icons/folder.gif\"/>2022</a></td><td> </td><td>04/01/2022 12:20:15 AM</td></tr>\n",
       " </tr>]"
      ]
     },
     "execution_count": 80,
     "metadata": {},
     "output_type": "execute_result"
    }
   ],
   "source": [
    "[el for el in year_table.children]"
   ]
  },
  {
   "cell_type": "code",
   "execution_count": 93,
   "id": "45750aa4-4969-4134-9c07-1b867995145c",
   "metadata": {},
   "outputs": [
    {
     "data": {
      "text/plain": [
       "<tr><th>Name</th><th>Size</th><th>Last Modified</th>\n",
       "<tr><td><a href=\"1995/\"><img alt=\"folder icon\" class=\"img_icon\" src=\"/icons/folder.gif\"/>1995</a></td><td> </td><td>05/02/2017 08:59:46 AM</td></tr>\n",
       "<tr><td><a href=\"1996/\"><img alt=\"folder icon\" class=\"img_icon\" src=\"/icons/folder.gif\"/>1996</a></td><td> </td><td>05/02/2017 09:02:18 AM</td></tr>\n",
       "<tr><td><a href=\"1997/\"><img alt=\"folder icon\" class=\"img_icon\" src=\"/icons/folder.gif\"/>1997</a></td><td> </td><td>05/02/2017 09:05:27 AM</td></tr>\n",
       "<tr><td><a href=\"1998/\"><img alt=\"folder icon\" class=\"img_icon\" src=\"/icons/folder.gif\"/>1998</a></td><td> </td><td>05/02/2017 09:09:46 AM</td></tr>\n",
       "<tr><td><a href=\"1999/\"><img alt=\"folder icon\" class=\"img_icon\" src=\"/icons/folder.gif\"/>1999</a></td><td> </td><td>05/02/2017 09:10:23 AM</td></tr>\n",
       "<tr><td><a href=\"2000/\"><img alt=\"folder icon\" class=\"img_icon\" src=\"/icons/folder.gif\"/>2000</a></td><td> </td><td>03/28/2018 08:13:38 AM</td></tr>\n",
       "<tr><td><a href=\"2001/\"><img alt=\"folder icon\" class=\"img_icon\" src=\"/icons/folder.gif\"/>2001</a></td><td> </td><td>03/28/2018 08:15:42 AM</td></tr>\n",
       "<tr><td><a href=\"2002/\"><img alt=\"folder icon\" class=\"img_icon\" src=\"/icons/folder.gif\"/>2002</a></td><td> </td><td>03/28/2018 08:15:50 AM</td></tr>\n",
       "<tr><td><a href=\"2003/\"><img alt=\"folder icon\" class=\"img_icon\" src=\"/icons/folder.gif\"/>2003</a></td><td> </td><td>03/28/2018 08:15:57 AM</td></tr>\n",
       "<tr><td><a href=\"2004/\"><img alt=\"folder icon\" class=\"img_icon\" src=\"/icons/folder.gif\"/>2004</a></td><td> </td><td>03/28/2018 08:16:04 AM</td></tr>\n",
       "<tr><td><a href=\"2005/\"><img alt=\"folder icon\" class=\"img_icon\" src=\"/icons/folder.gif\"/>2005</a></td><td> </td><td>03/28/2018 08:16:10 AM</td></tr>\n",
       "<tr><td><a href=\"2006/\"><img alt=\"folder icon\" class=\"img_icon\" src=\"/icons/folder.gif\"/>2006</a></td><td> </td><td>03/28/2018 08:16:16 AM</td></tr>\n",
       "<tr><td><a href=\"2007/\"><img alt=\"folder icon\" class=\"img_icon\" src=\"/icons/folder.gif\"/>2007</a></td><td> </td><td>03/28/2018 08:16:23 AM</td></tr>\n",
       "<tr><td><a href=\"2008/\"><img alt=\"folder icon\" class=\"img_icon\" src=\"/icons/folder.gif\"/>2008</a></td><td> </td><td>03/28/2018 08:16:30 AM</td></tr>\n",
       "<tr><td><a href=\"2009/\"><img alt=\"folder icon\" class=\"img_icon\" src=\"/icons/folder.gif\"/>2009</a></td><td> </td><td>03/28/2018 08:16:39 AM</td></tr>\n",
       "<tr><td><a href=\"2010/\"><img alt=\"folder icon\" class=\"img_icon\" src=\"/icons/folder.gif\"/>2010</a></td><td> </td><td>05/22/2018 08:54:02 AM</td></tr>\n",
       "<tr><td><a href=\"2011/\"><img alt=\"folder icon\" class=\"img_icon\" src=\"/icons/folder.gif\"/>2011</a></td><td> </td><td>05/22/2018 08:54:53 AM</td></tr>\n",
       "<tr><td><a href=\"2012/\"><img alt=\"folder icon\" class=\"img_icon\" src=\"/icons/folder.gif\"/>2012</a></td><td> </td><td>05/22/2018 08:55:05 AM</td></tr>\n",
       "<tr><td><a href=\"2013/\"><img alt=\"folder icon\" class=\"img_icon\" src=\"/icons/folder.gif\"/>2013</a></td><td> </td><td>05/22/2018 08:55:13 AM</td></tr>\n",
       "<tr><td><a href=\"2014/\"><img alt=\"folder icon\" class=\"img_icon\" src=\"/icons/folder.gif\"/>2014</a></td><td> </td><td>05/22/2018 08:55:23 AM</td></tr>\n",
       "<tr><td><a href=\"2015/\"><img alt=\"folder icon\" class=\"img_icon\" src=\"/icons/folder.gif\"/>2015</a></td><td> </td><td>05/22/2018 08:56:13 AM</td></tr>\n",
       "<tr><td><a href=\"2016/\"><img alt=\"folder icon\" class=\"img_icon\" src=\"/icons/folder.gif\"/>2016</a></td><td> </td><td>05/22/2018 08:56:48 AM</td></tr>\n",
       "<tr><td><a href=\"2017/\"><img alt=\"folder icon\" class=\"img_icon\" src=\"/icons/folder.gif\"/>2017</a></td><td> </td><td>05/22/2018 08:56:57 AM</td></tr>\n",
       "<tr><td><a href=\"2018/\"><img alt=\"folder icon\" class=\"img_icon\" src=\"/icons/folder.gif\"/>2018</a></td><td> </td><td>02/27/2019 08:40:24 AM</td></tr>\n",
       "<tr><td><a href=\"2019/\"><img alt=\"folder icon\" class=\"img_icon\" src=\"/icons/folder.gif\"/>2019</a></td><td> </td><td>07/13/2020 03:03:24 PM</td></tr>\n",
       "<tr><td><a href=\"2020/\"><img alt=\"folder icon\" class=\"img_icon\" src=\"/icons/folder.gif\"/>2020</a></td><td> </td><td>11/11/2020 09:26:39 AM</td></tr>\n",
       "<tr><td><a href=\"2021/\"><img alt=\"folder icon\" class=\"img_icon\" src=\"/icons/folder.gif\"/>2021</a></td><td> </td><td>01/28/2022 09:45:39 PM</td></tr>\n",
       "<tr><td><a href=\"2022/\"><img alt=\"folder icon\" class=\"img_icon\" src=\"/icons/folder.gif\"/>2022</a></td><td> </td><td>04/01/2022 12:20:15 AM</td></tr>\n",
       "</tr>"
      ]
     },
     "execution_count": 93,
     "metadata": {},
     "output_type": "execute_result"
    }
   ],
   "source": []
  },
  {
   "cell_type": "code",
   "execution_count": 84,
   "id": "f1c55e6b-664e-42e5-999e-ddbd82647699",
   "metadata": {},
   "outputs": [
    {
     "data": {
      "text/plain": [
       "1"
      ]
     },
     "execution_count": 84,
     "metadata": {},
     "output_type": "execute_result"
    }
   ],
   "source": [
    "len(list(year_table.children))\n",
    "# [0]"
   ]
  },
  {
   "cell_type": "code",
   "execution_count": 78,
   "id": "4e51c8dd-047e-497a-830b-338aa38704c2",
   "metadata": {},
   "outputs": [
    {
     "data": {
      "text/plain": [
       "\u001b[0;31mType:\u001b[0m        property\n",
       "\u001b[0;31mString form:\u001b[0m <property object at 0x7f87c8cfcf40>\n",
       "\u001b[0;31mSource:\u001b[0m     \n",
       "\u001b[0;31m# year_table.children.fget\u001b[0m\u001b[0;34m\u001b[0m\n",
       "\u001b[0;34m\u001b[0m\u001b[0;34m@\u001b[0m\u001b[0mproperty\u001b[0m\u001b[0;34m\u001b[0m\n",
       "\u001b[0;34m\u001b[0m\u001b[0;32mdef\u001b[0m \u001b[0mchildren\u001b[0m\u001b[0;34m(\u001b[0m\u001b[0mself\u001b[0m\u001b[0;34m)\u001b[0m\u001b[0;34m:\u001b[0m\u001b[0;34m\u001b[0m\n",
       "\u001b[0;34m\u001b[0m    \u001b[0;34m\"\"\"Iterate over all direct children of this PageElement.\u001b[0m\n",
       "\u001b[0;34m\u001b[0m\n",
       "\u001b[0;34m    :yield: A sequence of PageElements.\u001b[0m\n",
       "\u001b[0;34m    \"\"\"\u001b[0m\u001b[0;34m\u001b[0m\n",
       "\u001b[0;34m\u001b[0m    \u001b[0;31m# return iter() to make the purpose of the method clear\u001b[0m\u001b[0;34m\u001b[0m\n",
       "\u001b[0;34m\u001b[0m    \u001b[0;32mreturn\u001b[0m \u001b[0miter\u001b[0m\u001b[0;34m(\u001b[0m\u001b[0mself\u001b[0m\u001b[0;34m.\u001b[0m\u001b[0mcontents\u001b[0m\u001b[0;34m)\u001b[0m  \u001b[0;31m# XXX This seems to be untested.\u001b[0m\u001b[0;34m\u001b[0m\u001b[0;34m\u001b[0m\u001b[0m\n"
      ]
     },
     "metadata": {},
     "output_type": "display_data"
    }
   ],
   "source": [
    "??year_table.children"
   ]
  },
  {
   "cell_type": "code",
   "execution_count": 73,
   "id": "57748f26-41b5-4247-a102-9b00c31c63f2",
   "metadata": {},
   "outputs": [
    {
     "data": {
      "text/plain": [
       "['DEFAULT_INTERESTING_STRING_TYPES',\n",
       " '__bool__',\n",
       " '__call__',\n",
       " '__class__',\n",
       " '__contains__',\n",
       " '__copy__',\n",
       " '__delattr__',\n",
       " '__delitem__',\n",
       " '__dict__',\n",
       " '__dir__',\n",
       " '__doc__',\n",
       " '__eq__',\n",
       " '__format__',\n",
       " '__ge__',\n",
       " '__getattr__',\n",
       " '__getattribute__',\n",
       " '__getitem__',\n",
       " '__gt__',\n",
       " '__hash__',\n",
       " '__init__',\n",
       " '__init_subclass__',\n",
       " '__iter__',\n",
       " '__le__',\n",
       " '__len__',\n",
       " '__lt__',\n",
       " '__module__',\n",
       " '__ne__',\n",
       " '__new__',\n",
       " '__reduce__',\n",
       " '__reduce_ex__',\n",
       " '__repr__',\n",
       " '__setattr__',\n",
       " '__setitem__',\n",
       " '__sizeof__',\n",
       " '__str__',\n",
       " '__subclasshook__',\n",
       " '__unicode__',\n",
       " '__weakref__',\n",
       " '_all_strings',\n",
       " '_find_all',\n",
       " '_find_one',\n",
       " '_is_xml',\n",
       " '_lastRecursiveChild',\n",
       " '_last_descendant',\n",
       " '_namespaces',\n",
       " '_should_pretty_print',\n",
       " 'append',\n",
       " 'attrs',\n",
       " 'can_be_empty_element',\n",
       " 'cdata_list_attributes',\n",
       " 'childGenerator',\n",
       " 'children',\n",
       " 'clear',\n",
       " 'contents',\n",
       " 'decode',\n",
       " 'decode_contents',\n",
       " 'decompose',\n",
       " 'decomposed',\n",
       " 'default',\n",
       " 'descendants',\n",
       " 'encode',\n",
       " 'encode_contents',\n",
       " 'extend',\n",
       " 'extract',\n",
       " 'fetchNextSiblings',\n",
       " 'fetchParents',\n",
       " 'fetchPrevious',\n",
       " 'fetchPreviousSiblings',\n",
       " 'find',\n",
       " 'findAll',\n",
       " 'findAllNext',\n",
       " 'findAllPrevious',\n",
       " 'findChild',\n",
       " 'findChildren',\n",
       " 'findNext',\n",
       " 'findNextSibling',\n",
       " 'findNextSiblings',\n",
       " 'findParent',\n",
       " 'findParents',\n",
       " 'findPrevious',\n",
       " 'findPreviousSibling',\n",
       " 'findPreviousSiblings',\n",
       " 'find_all',\n",
       " 'find_all_next',\n",
       " 'find_all_previous',\n",
       " 'find_next',\n",
       " 'find_next_sibling',\n",
       " 'find_next_siblings',\n",
       " 'find_parent',\n",
       " 'find_parents',\n",
       " 'find_previous',\n",
       " 'find_previous_sibling',\n",
       " 'find_previous_siblings',\n",
       " 'format_string',\n",
       " 'formatter_for_name',\n",
       " 'get',\n",
       " 'getText',\n",
       " 'get_attribute_list',\n",
       " 'get_text',\n",
       " 'has_attr',\n",
       " 'has_key',\n",
       " 'hidden',\n",
       " 'index',\n",
       " 'insert',\n",
       " 'insert_after',\n",
       " 'insert_before',\n",
       " 'interesting_string_types',\n",
       " 'isSelfClosing',\n",
       " 'is_empty_element',\n",
       " 'known_xml',\n",
       " 'name',\n",
       " 'namespace',\n",
       " 'next',\n",
       " 'nextGenerator',\n",
       " 'nextSibling',\n",
       " 'nextSiblingGenerator',\n",
       " 'next_element',\n",
       " 'next_elements',\n",
       " 'next_sibling',\n",
       " 'next_siblings',\n",
       " 'parent',\n",
       " 'parentGenerator',\n",
       " 'parents',\n",
       " 'parserClass',\n",
       " 'parser_class',\n",
       " 'prefix',\n",
       " 'preserve_whitespace_tags',\n",
       " 'prettify',\n",
       " 'previous',\n",
       " 'previousGenerator',\n",
       " 'previousSibling',\n",
       " 'previousSiblingGenerator',\n",
       " 'previous_element',\n",
       " 'previous_elements',\n",
       " 'previous_sibling',\n",
       " 'previous_siblings',\n",
       " 'recursiveChildGenerator',\n",
       " 'renderContents',\n",
       " 'replaceWith',\n",
       " 'replaceWithChildren',\n",
       " 'replace_with',\n",
       " 'replace_with_children',\n",
       " 'select',\n",
       " 'select_one',\n",
       " 'setup',\n",
       " 'smooth',\n",
       " 'sourceline',\n",
       " 'sourcepos',\n",
       " 'string',\n",
       " 'strings',\n",
       " 'stripped_strings',\n",
       " 'text',\n",
       " 'unwrap',\n",
       " 'wrap']"
      ]
     },
     "execution_count": 73,
     "metadata": {},
     "output_type": "execute_result"
    }
   ],
   "source": [
    "dir(year_table)"
   ]
  },
  {
   "cell_type": "code",
   "execution_count": null,
   "id": "22c862cd-3713-42f6-bf18-2213c7b96a5a",
   "metadata": {},
   "outputs": [],
   "source": []
  },
  {
   "cell_type": "code",
   "execution_count": null,
   "id": "05a0403f-45da-4595-8224-cdbad479f14a",
   "metadata": {},
   "outputs": [],
   "source": []
  },
  {
   "cell_type": "code",
   "execution_count": null,
   "id": "9d878a9a-39da-4c0f-9134-a42f55ac90e2",
   "metadata": {},
   "outputs": [],
   "source": []
  },
  {
   "cell_type": "code",
   "execution_count": 31,
   "id": "a886a3b2-88ef-4c8b-8fda-bd808e1808fb",
   "metadata": {},
   "outputs": [
    {
     "name": "stdout",
     "output_type": "stream",
     "text": [
      "b'EXPLORA INVESTIMENTOS GEST\\xc3O DE RECURSOS LTDA:0001538467:'\n",
      "b'PRAGMA GEST\\xc3O DE PATRIM\\xd4NIO LTDA:0001555512:'\n"
     ]
    }
   ],
   "source": [
    "resp = requests.get(\n",
    "    url = \"https://www.sec.gov/Archives/edgar/cik-lookup-data.txt\",\n",
    "    headers={\"User-Agent\":os.environ[\"email\"]}\n",
    ")\n",
    "if resp.status_code == 200:\n",
    "    response_lines = [line for line in resp.iter_lines()]\n",
    "    decoded_lines, error_lines = decode_lines(response_lines)\n",
    "    company_cik_codes = pd.DataFrame(decoded_lines)\n",
    "    assert all(company_cik_codes[0].str[-11:-8] == \"000\"), (\n",
    "        \"A company had either a cik id >= 10^7 or a malformed cik. Investigate.\"\n",
    "    )\n",
    "    company_cik_codes_df = pd.DataFrame({\n",
    "        \"company\": company_cik_codes[0].str[-11:]\n",
    "        \"cik\": company_cik_codes[0].str[-11:],\n",
    "    })\n",
    "    # company_cik_codes_df = company_cik_codes[0].str.split(\":\", n=1, expand=True)\n",
    "    # company_cik_codes_df = company_cik_codes_df.rename(columns={0:\"company\", 1:\"cik\"})\n",
    "    # company_cik_codes_df[\"cik\"] = company_cik_codes_df[\"cik\"].str.replace(\":\", \"\")"
   ]
  },
  {
   "cell_type": "code",
   "execution_count": 41,
   "id": "71c4b80f-c346-4993-9ee8-6718378d8a4c",
   "metadata": {},
   "outputs": [],
   "source": [
    "company_cik_codes_df = pd.DataFrame({\n",
    "    \"company\": company_cik_codes[0].str[:-12],\n",
    "    \"cik\": company_cik_codes[0].str[-11:-1],\n",
    "})"
   ]
  },
  {
   "cell_type": "code",
   "execution_count": 42,
   "id": "2cc44605-ca8a-44ec-a17b-e5789405e9fb",
   "metadata": {},
   "outputs": [
    {
     "data": {
      "text/html": [
       "<div>\n",
       "<style scoped>\n",
       "    .dataframe tbody tr th:only-of-type {\n",
       "        vertical-align: middle;\n",
       "    }\n",
       "\n",
       "    .dataframe tbody tr th {\n",
       "        vertical-align: top;\n",
       "    }\n",
       "\n",
       "    .dataframe thead th {\n",
       "        text-align: right;\n",
       "    }\n",
       "</style>\n",
       "<table border=\"1\" class=\"dataframe\">\n",
       "  <thead>\n",
       "    <tr style=\"text-align: right;\">\n",
       "      <th></th>\n",
       "      <th>company</th>\n",
       "      <th>cik</th>\n",
       "    </tr>\n",
       "  </thead>\n",
       "  <tbody>\n",
       "    <tr>\n",
       "      <th>0</th>\n",
       "      <td>!J INC</td>\n",
       "      <td>0001438823</td>\n",
       "    </tr>\n",
       "    <tr>\n",
       "      <th>1</th>\n",
       "      <td>#1 A LIFESAFER HOLDINGS, INC.</td>\n",
       "      <td>0001509607</td>\n",
       "    </tr>\n",
       "    <tr>\n",
       "      <th>2</th>\n",
       "      <td>#1 ARIZONA DISCOUNT PROPERTIES LLC</td>\n",
       "      <td>0001457512</td>\n",
       "    </tr>\n",
       "    <tr>\n",
       "      <th>3</th>\n",
       "      <td>#1 PAINTBALL CORP</td>\n",
       "      <td>0001433777</td>\n",
       "    </tr>\n",
       "    <tr>\n",
       "      <th>4</th>\n",
       "      <td>$ LLC</td>\n",
       "      <td>0001427189</td>\n",
       "    </tr>\n",
       "    <tr>\n",
       "      <th>...</th>\n",
       "      <td>...</td>\n",
       "      <td>...</td>\n",
       "    </tr>\n",
       "    <tr>\n",
       "      <th>881104</th>\n",
       "      <td>ZZIF 2008 INVESTMENT LLC</td>\n",
       "      <td>0001448632</td>\n",
       "    </tr>\n",
       "    <tr>\n",
       "      <th>881105</th>\n",
       "      <td>ZZLL INFORMATION TECHNOLOGY, INC</td>\n",
       "      <td>0001365357</td>\n",
       "    </tr>\n",
       "    <tr>\n",
       "      <th>881106</th>\n",
       "      <td>ZZX, LLC</td>\n",
       "      <td>0001691924</td>\n",
       "    </tr>\n",
       "    <tr>\n",
       "      <th>881107</th>\n",
       "      <td>ZZYZX ZZAZX ZZOZX INC</td>\n",
       "      <td>0001184274</td>\n",
       "    </tr>\n",
       "    <tr>\n",
       "      <th>881108</th>\n",
       "      <td>ZZZ MEDIA HOLDINGS, INC.</td>\n",
       "      <td>0001755250</td>\n",
       "    </tr>\n",
       "  </tbody>\n",
       "</table>\n",
       "<p>881109 rows × 2 columns</p>\n",
       "</div>"
      ],
      "text/plain": [
       "                                   company         cik\n",
       "0                                   !J INC  0001438823\n",
       "1            #1 A LIFESAFER HOLDINGS, INC.  0001509607\n",
       "2       #1 ARIZONA DISCOUNT PROPERTIES LLC  0001457512\n",
       "3                        #1 PAINTBALL CORP  0001433777\n",
       "4                                    $ LLC  0001427189\n",
       "...                                    ...         ...\n",
       "881104            ZZIF 2008 INVESTMENT LLC  0001448632\n",
       "881105    ZZLL INFORMATION TECHNOLOGY, INC  0001365357\n",
       "881106                            ZZX, LLC  0001691924\n",
       "881107               ZZYZX ZZAZX ZZOZX INC  0001184274\n",
       "881108            ZZZ MEDIA HOLDINGS, INC.  0001755250\n",
       "\n",
       "[881109 rows x 2 columns]"
      ]
     },
     "execution_count": 42,
     "metadata": {},
     "output_type": "execute_result"
    }
   ],
   "source": [
    "company_cik_codes_df"
   ]
  },
  {
   "cell_type": "code",
   "execution_count": 32,
   "id": "99e48cef-9cc9-4c3d-8ed3-0d50ab74520c",
   "metadata": {},
   "outputs": [
    {
     "name": "stdout",
     "output_type": "stream",
     "text": [
      "                                           0\n",
      "0                         !J INC:0001438823:\n",
      "1  #1 A LIFESAFER HOLDINGS, INC.:0001509607:\n"
     ]
    }
   ],
   "source": [
    "print(company_cik_codes.head(2))"
   ]
  },
  {
   "cell_type": "code",
   "execution_count": 33,
   "id": "11b8e4ec-b8ba-40e2-8dc1-caa1202ad58d",
   "metadata": {},
   "outputs": [
    {
     "data": {
      "text/plain": [
       ":    881109\n",
       "Name: 0, dtype: int64"
      ]
     },
     "execution_count": 33,
     "metadata": {},
     "output_type": "execute_result"
    }
   ],
   "source": [
    "company_cik_codes[0].str[-1].value_counts(dropna=False)"
   ]
  },
  {
   "cell_type": "code",
   "execution_count": 37,
   "id": "1736a0e3-65ec-45be-a0e5-55a4ac8ac26b",
   "metadata": {},
   "outputs": [
    {
     "data": {
      "text/plain": [
       "000    881109\n",
       "Name: 0, dtype: int64"
      ]
     },
     "execution_count": 37,
     "metadata": {},
     "output_type": "execute_result"
    }
   ],
   "source": [
    "company_cik_codes[0].str[-11:-8].value_counts(dropna=False)"
   ]
  },
  {
   "cell_type": "code",
   "execution_count": 46,
   "id": "47cc2ee1-c37d-4457-8a74-bfead406b100",
   "metadata": {},
   "outputs": [],
   "source": [
    "assert all(company_cik_codes[0].str[-11:-8] == \"000\")"
   ]
  },
  {
   "cell_type": "code",
   "execution_count": 34,
   "id": "ec8115c0-8d30-47c4-8655-df366d77d7af",
   "metadata": {},
   "outputs": [],
   "source": [
    "import re"
   ]
  },
  {
   "cell_type": "code",
   "execution_count": 35,
   "id": "f58e15e9-3749-4156-80e4-d820e6b6f07c",
   "metadata": {},
   "outputs": [],
   "source": [
    "cik_num_pattern = re.compile(\"(\\d{10}:$)\")"
   ]
  },
  {
   "cell_type": "code",
   "execution_count": null,
   "id": "b2e5cecb-1eda-4ee8-98f6-1a61abbdf598",
   "metadata": {},
   "outputs": [],
   "source": [
    "re.findall()"
   ]
  },
  {
   "cell_type": "code",
   "execution_count": null,
   "id": "058c99f3-122e-4ff5-b901-1469d0c45bca",
   "metadata": {},
   "outputs": [],
   "source": []
  },
  {
   "cell_type": "code",
   "execution_count": null,
   "id": "943227e3-09ad-463c-b7d4-a16673a92062",
   "metadata": {},
   "outputs": [],
   "source": []
  },
  {
   "cell_type": "code",
   "execution_count": null,
   "id": "924a87c3-f96a-4f2a-a843-a631c673a7e2",
   "metadata": {},
   "outputs": [],
   "source": []
  },
  {
   "cell_type": "code",
   "execution_count": null,
   "id": "f8e20e9b-6294-4f9c-962e-cceaa78eff4d",
   "metadata": {},
   "outputs": [],
   "source": []
  },
  {
   "cell_type": "code",
   "execution_count": null,
   "id": "8f9d63ed-bb08-4a1b-9e06-53f0926f206e",
   "metadata": {},
   "outputs": [],
   "source": []
  },
  {
   "cell_type": "code",
   "execution_count": null,
   "id": "e527cf48-bcbc-4a27-b989-8f7612fbef37",
   "metadata": {},
   "outputs": [],
   "source": []
  },
  {
   "cell_type": "code",
   "execution_count": null,
   "id": "0d98c96a-1ec3-4b96-82ca-2fdb30a42062",
   "metadata": {},
   "outputs": [],
   "source": []
  },
  {
   "cell_type": "code",
   "execution_count": 76,
   "id": "385b1ac2-7171-4f3f-ba35-c6e78b3ea898",
   "metadata": {},
   "outputs": [],
   "source": [
    "url = \"https://www.sec.gov/Archives/edgar/cik-lookup-data.txt\"\n",
    "\n",
    "# urlretrieve(url=url, filename=out_path)"
   ]
  },
  {
   "cell_type": "code",
   "execution_count": 1,
   "id": "fc93c3ed-361f-4d9e-83e6-9d555248b022",
   "metadata": {},
   "outputs": [
    {
     "ename": "NameError",
     "evalue": "name 'DATA_DIR' is not defined",
     "output_type": "error",
     "traceback": [
      "\u001b[0;31m---------------------------------------------------------------------------\u001b[0m",
      "\u001b[0;31mNameError\u001b[0m                                 Traceback (most recent call last)",
      "Cell \u001b[0;32mIn [1], line 1\u001b[0m\n\u001b[0;32m----> 1\u001b[0m \u001b[38;5;28;01mdef\u001b[39;00m \u001b[38;5;21mget_edgar_cik_lookup_data\u001b[39m(file_path: pathlib\u001b[38;5;241m.\u001b[39mPath \u001b[38;5;241m=\u001b[39m DATA_DIR\u001b[38;5;241m.\u001b[39mjoinpath(\u001b[38;5;124m\"\u001b[39m\u001b[38;5;124medgar-cik-lookup-data.csv\u001b[39m\u001b[38;5;124m\"\u001b[39m)) \u001b[38;5;241m-\u001b[39m\u001b[38;5;241m>\u001b[39m pd\u001b[38;5;241m.\u001b[39mDataFrame:\n\u001b[1;32m      2\u001b[0m     \u001b[38;5;28;01mif\u001b[39;00m \u001b[38;5;129;01mnot\u001b[39;00m file_path\u001b[38;5;241m.\u001b[39mis_file():\n\u001b[1;32m      3\u001b[0m         resp \u001b[38;5;241m=\u001b[39m requests\u001b[38;5;241m.\u001b[39mget(\n\u001b[1;32m      4\u001b[0m             url \u001b[38;5;241m=\u001b[39m \u001b[38;5;124m\"\u001b[39m\u001b[38;5;124mhttps://www.sec.gov/Archives/edgar/cik-lookup-data.txt\u001b[39m\u001b[38;5;124m\"\u001b[39m,\n\u001b[1;32m      5\u001b[0m             headers\u001b[38;5;241m=\u001b[39m{\u001b[38;5;124m\"\u001b[39m\u001b[38;5;124mUser-Agent\u001b[39m\u001b[38;5;124m\"\u001b[39m:os\u001b[38;5;241m.\u001b[39menviron[\u001b[38;5;124m\"\u001b[39m\u001b[38;5;124memail\u001b[39m\u001b[38;5;124m\"\u001b[39m]}\n\u001b[1;32m      6\u001b[0m         )\n",
      "\u001b[0;31mNameError\u001b[0m: name 'DATA_DIR' is not defined"
     ]
    }
   ],
   "source": [
    "def get_edgar_cik_lookup_data(file_path: pathlib.Path = DATA_DIR.joinpath(\"edgar-cik-lookup-data.csv\")) -> pd.DataFrame:\n",
    "    if not file_path.is_file():\n",
    "        resp = requests.get(\n",
    "            url = \"https://www.sec.gov/Archives/edgar/cik-lookup-data.txt\",\n",
    "            headers={\"User-Agent\":os.environ[\"email\"]}\n",
    "        )\n",
    "        if resp.status_code == 200:\n",
    "            response_lines = [line for line in resp.iter_lines()]\n",
    "            decoded_lines, error_lines = decode_lines(response_lines)\n",
    "            company_cik_codes = pd.DataFrame(decoded_lines)\n",
    "            company_cik_codes_df = company_cik_codes[0].str.split(\":\", n=1, expand=True)\n",
    "            company_cik_codes_df = company_cik_codes_df.rename(columns={0:\"company\", 1:\"cik\"})\n",
    "            company_cik_codes_df[\"cik\"] = company_cik_codes_df[\"cik\"].str.replace(\":\", \"\")\n",
    "            company_cik_codes_df.to_csv(file_path, index=False)\n",
    "        else:\n",
    "            raise Exception(f\"Failed to get a valid response: {rest.status_code}\")\n",
    "    return pd.read_csv(file_path)"
   ]
  },
  {
   "cell_type": "code",
   "execution_count": 80,
   "id": "eea079d6-7919-467e-a03a-d68023295060",
   "metadata": {},
   "outputs": [],
   "source": [
    "url = \"https://www.sec.gov/Archives/edgar/cik-lookup-data.txt\"\n",
    "resp = requests.get(\n",
    "    url,\n",
    "    headers={\n",
    "        \"User-Agent\":os.environ[\"email\"]\n",
    "    }\n",
    ")"
   ]
  },
  {
   "cell_type": "code",
   "execution_count": 81,
   "id": "27708dc2-7c49-43e0-878a-0754faf54926",
   "metadata": {},
   "outputs": [
    {
     "data": {
      "text/plain": [
       "200"
      ]
     },
     "execution_count": 81,
     "metadata": {},
     "output_type": "execute_result"
    }
   ],
   "source": [
    "resp.status_code"
   ]
  },
  {
   "cell_type": "code",
   "execution_count": 82,
   "id": "5258a51f-e9ab-43a6-98d4-3c64246b6183",
   "metadata": {},
   "outputs": [
    {
     "name": "stdout",
     "output_type": "stream",
     "text": [
      "b'EXPLORA INVESTIMENTOS GEST\\xc3O DE RECURSOS LTDA:0001538467:'\n",
      "b'PRAGMA GEST\\xc3O DE PATRIM\\xd4NIO LTDA:0001555512:'\n"
     ]
    }
   ],
   "source": [
    "response_lines = [line for line in resp.iter_lines()]\n",
    "decoded_lines, error_lines = decode_lines(response_lines)\n",
    "company_cik_codes = pd.DataFrame(decoded_lines)\n",
    "company_cik_codes_df = company_cik_codes[0].str.split(\":\", n=1, expand=True)\n",
    "company_cik_codes_df = company_cik_codes_df.rename(columns={0:\"company\", 1:\"cik\"})\n",
    "company_cik_codes_df[\"cik\"] = company_cik_codes_df[\"cik\"].str.replace(\":\", \"\")"
   ]
  },
  {
   "cell_type": "code",
   "execution_count": 83,
   "id": "837534a1-7c53-4443-8c0b-ec5d3032565b",
   "metadata": {},
   "outputs": [
    {
     "name": "stdout",
     "output_type": "stream",
     "text": [
      "(881109, 1)\n"
     ]
    },
    {
     "data": {
      "text/html": [
       "<div>\n",
       "<style scoped>\n",
       "    .dataframe tbody tr th:only-of-type {\n",
       "        vertical-align: middle;\n",
       "    }\n",
       "\n",
       "    .dataframe tbody tr th {\n",
       "        vertical-align: top;\n",
       "    }\n",
       "\n",
       "    .dataframe thead th {\n",
       "        text-align: right;\n",
       "    }\n",
       "</style>\n",
       "<table border=\"1\" class=\"dataframe\">\n",
       "  <thead>\n",
       "    <tr style=\"text-align: right;\">\n",
       "      <th></th>\n",
       "      <th>0</th>\n",
       "    </tr>\n",
       "  </thead>\n",
       "  <tbody>\n",
       "    <tr>\n",
       "      <th>0</th>\n",
       "      <td>!J INC:0001438823:</td>\n",
       "    </tr>\n",
       "    <tr>\n",
       "      <th>1</th>\n",
       "      <td>#1 A LIFESAFER HOLDINGS, INC.:0001509607:</td>\n",
       "    </tr>\n",
       "  </tbody>\n",
       "</table>\n",
       "</div>"
      ],
      "text/plain": [
       "                                           0\n",
       "0                         !J INC:0001438823:\n",
       "1  #1 A LIFESAFER HOLDINGS, INC.:0001509607:"
      ]
     },
     "execution_count": 83,
     "metadata": {},
     "output_type": "execute_result"
    }
   ],
   "source": [
    "print(company_cik_codes.shape)\n",
    "company_cik_codes.head(2)"
   ]
  },
  {
   "cell_type": "code",
   "execution_count": 90,
   "id": "12c6d5d3-00a0-4399-88a1-c77489aa01b6",
   "metadata": {},
   "outputs": [],
   "source": [
    "company_cik_codes_df.to_csv(DATA_DIR.joinpath(\"edgar-cik-lookup-data.csv\"), index=False)"
   ]
  },
  {
   "cell_type": "code",
   "execution_count": null,
   "id": "2a50cdc4-045e-4a23-9df6-37a5acefd1a7",
   "metadata": {},
   "outputs": [],
   "source": []
  },
  {
   "cell_type": "code",
   "execution_count": 89,
   "id": "23e28c6c-5606-454d-848b-b8d213cc1c89",
   "metadata": {},
   "outputs": [
    {
     "data": {
      "text/html": [
       "<div>\n",
       "<style scoped>\n",
       "    .dataframe tbody tr th:only-of-type {\n",
       "        vertical-align: middle;\n",
       "    }\n",
       "\n",
       "    .dataframe tbody tr th {\n",
       "        vertical-align: top;\n",
       "    }\n",
       "\n",
       "    .dataframe thead th {\n",
       "        text-align: right;\n",
       "    }\n",
       "</style>\n",
       "<table border=\"1\" class=\"dataframe\">\n",
       "  <thead>\n",
       "    <tr style=\"text-align: right;\">\n",
       "      <th></th>\n",
       "      <th>company</th>\n",
       "      <th>cik</th>\n",
       "    </tr>\n",
       "  </thead>\n",
       "  <tbody>\n",
       "    <tr>\n",
       "      <th>0</th>\n",
       "      <td>!J INC</td>\n",
       "      <td>0001438823</td>\n",
       "    </tr>\n",
       "    <tr>\n",
       "      <th>1</th>\n",
       "      <td>#1 A LIFESAFER HOLDINGS, INC.</td>\n",
       "      <td>0001509607</td>\n",
       "    </tr>\n",
       "  </tbody>\n",
       "</table>\n",
       "</div>"
      ],
      "text/plain": [
       "                         company         cik\n",
       "0                         !J INC  0001438823\n",
       "1  #1 A LIFESAFER HOLDINGS, INC.  0001509607"
      ]
     },
     "execution_count": 89,
     "metadata": {},
     "output_type": "execute_result"
    }
   ],
   "source": [
    "company_cik_codes_df.head(2)"
   ]
  },
  {
   "cell_type": "code",
   "execution_count": null,
   "id": "20f3290e-6d35-4b8d-8128-573b1ab70593",
   "metadata": {},
   "outputs": [],
   "source": []
  },
  {
   "cell_type": "code",
   "execution_count": null,
   "id": "efdf531e-bce0-47ea-93f4-7115e4862515",
   "metadata": {},
   "outputs": [],
   "source": []
  },
  {
   "cell_type": "code",
   "execution_count": 36,
   "id": "aba8bc08-bb38-4a28-82d6-7016e890f736",
   "metadata": {},
   "outputs": [],
   "source": [
    "response_lines = [line for line in resp.iter_lines()]"
   ]
  },
  {
   "cell_type": "code",
   "execution_count": 40,
   "id": "01e8eae0-5a5a-4015-967a-a5db8b16b57d",
   "metadata": {},
   "outputs": [],
   "source": [
    "# response_lines[20:40]"
   ]
  },
  {
   "cell_type": "code",
   "execution_count": 57,
   "id": "c38375a3-3cc6-4a93-a85d-43b16ff9ae1c",
   "metadata": {},
   "outputs": [],
   "source": []
  },
  {
   "cell_type": "code",
   "execution_count": null,
   "id": "22cdcd71-27b2-40c0-8232-07644a534127",
   "metadata": {},
   "outputs": [],
   "source": [
    "company_cik_codes"
   ]
  },
  {
   "cell_type": "code",
   "execution_count": null,
   "id": "047f177b-3e2c-4f04-b2b7-ea4eb6141cb4",
   "metadata": {},
   "outputs": [],
   "source": []
  },
  {
   "cell_type": "code",
   "execution_count": null,
   "id": "befa53a2-981e-43e2-8591-bdda1623679d",
   "metadata": {},
   "outputs": [],
   "source": []
  },
  {
   "cell_type": "code",
   "execution_count": 59,
   "id": "47f0e77d-4a8f-4d30-9410-f04167659464",
   "metadata": {},
   "outputs": [],
   "source": [
    "# [line.split(\":\", 1) for line in decoded_lines]"
   ]
  },
  {
   "cell_type": "code",
   "execution_count": 60,
   "id": "6775ce0a-a6ce-47e0-8d05-4c2181ff8d26",
   "metadata": {},
   "outputs": [],
   "source": [
    "# decoded_lines"
   ]
  },
  {
   "cell_type": "code",
   "execution_count": 46,
   "id": "4683f7ad-f60d-4ee4-b277-c9f0c7705ba8",
   "metadata": {},
   "outputs": [
    {
     "name": "stdout",
     "output_type": "stream",
     "text": [
      "b'EXPLORA INVESTIMENTOS GEST\\xc3O DE RECURSOS LTDA:0001538467:'\n"
     ]
    }
   ],
   "source": [
    "print(error_lines[0])"
   ]
  },
  {
   "cell_type": "code",
   "execution_count": null,
   "id": "2b53a453-4ee9-4f6e-8890-c6f472f40060",
   "metadata": {},
   "outputs": [],
   "source": []
  },
  {
   "cell_type": "code",
   "execution_count": null,
   "id": "0258cc70-284e-434e-b9a1-5731253c4674",
   "metadata": {},
   "outputs": [],
   "source": []
  },
  {
   "cell_type": "code",
   "execution_count": null,
   "id": "024b1c9d-876c-47ba-a820-e24c58907f30",
   "metadata": {},
   "outputs": [],
   "source": []
  },
  {
   "cell_type": "code",
   "execution_count": null,
   "id": "aef309e3-29f3-4f15-8a24-02560b4ba777",
   "metadata": {},
   "outputs": [],
   "source": []
  },
  {
   "cell_type": "code",
   "execution_count": null,
   "id": "d0ff4cd9-8865-455b-8e2d-99e2a4ebb068",
   "metadata": {},
   "outputs": [],
   "source": []
  },
  {
   "cell_type": "code",
   "execution_count": null,
   "id": "90460771-4d4e-472e-8fcc-f0bd6f06c8e9",
   "metadata": {},
   "outputs": [],
   "source": []
  },
  {
   "cell_type": "code",
   "execution_count": null,
   "id": "788011eb-2092-49c8-96e2-71ca7ac718a4",
   "metadata": {},
   "outputs": [],
   "source": []
  }
 ],
 "metadata": {
  "kernelspec": {
   "display_name": "Python (geo_env)",
   "language": "python",
   "name": "geo_env"
  },
  "language_info": {
   "codemirror_mode": {
    "name": "ipython",
    "version": 3
   },
   "file_extension": ".py",
   "mimetype": "text/x-python",
   "name": "python",
   "nbconvert_exporter": "python",
   "pygments_lexer": "ipython3",
   "version": "3.10.6"
  }
 },
 "nbformat": 4,
 "nbformat_minor": 5
}
